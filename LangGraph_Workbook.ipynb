{
 "cells": [
  {
   "cell_type": "markdown",
   "metadata": {},
   "source": [
    "## Sources\n",
    "\n",
    "- [Langchain](https://python.langchain.com/v0.2/docs/introduction/)🦜\n",
    "- [Langgraph](https://langchain-ai.github.io/langgraph/tutorials/introduction/)🕸️\n",
    "- [Langsmith](https://docs.smith.langchain.com/)🛠️"
   ]
  },
  {
   "cell_type": "markdown",
   "metadata": {},
   "source": [
    "## Levels of automation\n",
    "<div style=\"text-align:center\">\n",
    "    <img src=\"./images/LevelsOfAutomation.png\" alt=\"levels of automation\" width='80%'>\n",
    "</div>"
   ]
  },
  {
   "cell_type": "markdown",
   "metadata": {},
   "source": [
    "### Install the required packages"
   ]
  },
  {
   "cell_type": "code",
   "execution_count": null,
   "metadata": {},
   "outputs": [],
   "source": [
    "%pip install -U langgraph langsmith langchain_openai langchain_community"
   ]
  },
  {
   "cell_type": "markdown",
   "metadata": {},
   "source": [
    "### Set environment variables"
   ]
  },
  {
   "cell_type": "code",
   "execution_count": 1,
   "metadata": {},
   "outputs": [],
   "source": [
    "import os\n",
    "\n",
    "os.environ[\"LANGCHAIN_API_KEY\"] = \"ahah\"\n",
    "os.environ[\"LANGCHAIN_TRACING_V2\"] = \"true\"\n",
    "os.environ[\"LANGCHAIN_PROJECT\"] = \"LangGraph Tutorial\"\n",
    "\n",
    "OPENAI_API_KEY = os.getenv(\"COGITO_OPENAI_API_KEY\")"
   ]
  },
  {
   "cell_type": "markdown",
   "metadata": {},
   "source": [
    "### 1. The State of the graph\n",
    "The first thing you do when you define a graph is define the `State` of the graph. The `State` consists of the schema of the graph as well as `reducer functions` which specify how to apply updates to the state. The schema of the `State` will be the input schema to all `Nodes` and `Edges` in the graph, and can be either a `TypedDict` or a `Pydantic` model. All `Nodes` will emit updates to the `State` which are then applied using the specified reducer function.\n",
    "\n",
    "Source: [Langchain AI - State of the graph](https://langchain-ai.github.io/langgraph/concepts/low_level/#state)\n"
   ]
  },
  {
   "cell_type": "code",
   "execution_count": 4,
   "metadata": {},
   "outputs": [],
   "source": [
    "from typing import Annotated\n",
    "from typing import TypedDict\n",
    "from langgraph.graph.message import add_messages\n",
    "\n",
    "\n",
    "class GraphState(TypedDict):\n",
    "    # Messages have the type \"list\". The `add_messages` function\n",
    "    # in the annotation defines how this state key should be updated\n",
    "    # (in this case, it appends messages to the list, rather than overwriting them)\n",
    "    messages: Annotated[list, add_messages]"
   ]
  },
  {
   "cell_type": "markdown",
   "metadata": {},
   "source": [
    "### 2. Nodes for the graph\n",
    "In LangGraph, nodes are typically python functions (sync or async) where the first positional argument is the state, and (optionally), the second positional argument is a \"config\", containing optional configurable parameters (such as a thread_id).\n",
    "\n",
    "Source: [Langchain AI - Nodes](https://langchain-ai.github.io/langgraph/concepts/low_level/#nodes)"
   ]
  },
  {
   "cell_type": "code",
   "execution_count": 5,
   "metadata": {},
   "outputs": [],
   "source": [
    "from langchain_openai import ChatOpenAI\n",
    "\n",
    "llm = ChatOpenAI(\n",
    "    openai_api_key=OPENAI_API_KEY,\n",
    "    model_name=\"gpt-4o-mini\",\n",
    ")\n",
    "\n",
    "def chatbot(state: GraphState):\n",
    "    \"\"\"\n",
    "    Simple bot that invokes the list of previous messages\n",
    "    and returns the result which will be added to the list of messages.\n",
    "    \"\"\"\n",
    "    return {\"messages\": [llm.invoke(state[\"messages\"])]}"
   ]
  },
  {
   "cell_type": "markdown",
   "metadata": {},
   "source": [
    "### 3. Edges - The workflow of the graph\n",
    "Edges define how the logic is routed and how the graph decides to stop. This is a big part of how your agents work and how different nodes communicate with each other. There are a few key types of edges:\n",
    "\n",
    "- **Normal Edges**: Go directly from one node to the next.\n",
    "- **Conditional Edges**: Call a function to determine which node(s) to go to next.\n",
    "- **Entry Point**: Which node to call first when user input arrives.\n",
    "- **Conditional Entry Point**: Call a function to determine which node(s) to call first when user input arrives.\n",
    "\n",
    "A node can have **MULTIPLE** outgoing edges. If a node has multiple out-going edges, **all** of those destination nodes will be executed in parallel as a part of the next superstep.\n",
    "\n",
    "Source: [Langchain AI - Edges](https://langchain-ai.github.io/langgraph/concepts/low_level/#edges)"
   ]
  },
  {
   "cell_type": "code",
   "execution_count": 6,
   "metadata": {},
   "outputs": [],
   "source": [
    "from langgraph.graph import StateGraph, START, END\n",
    "\n",
    "workflow = StateGraph(GraphState)\n",
    "\n",
    "# Adding nodes to the workflow\n",
    "workflow.add_node(\"chatbot\", chatbot)\n",
    "\n",
    "# Defining edges between nodes\n",
    "workflow.add_edge(START, \"chatbot\")\n",
    "workflow.add_edge(\"chatbot\", END)\n",
    "\n",
    "graph = workflow.compile()\n"
   ]
  },
  {
   "cell_type": "markdown",
   "metadata": {},
   "source": [
    "### Lets take a look at our graph"
   ]
  },
  {
   "cell_type": "code",
   "execution_count": 7,
   "metadata": {},
   "outputs": [
    {
     "data": {
      "image/jpeg": "[encoded data removed]",
      "text/plain": [
       "<IPython.core.display.Image object>"
      ]
     },
     "metadata": {},
     "output_type": "display_data"
    }
   ],
   "source": [
    "from IPython.display import Image, display\n",
    "\n",
    "display(Image(graph.get_graph().draw_mermaid_png()))"
   ]
  },
  {
   "cell_type": "markdown",
   "metadata": {},
   "source": [
    "### Invoke/stream the graph\n",
    "LangGraph is built with first class support for streaming. There are several different ways to stream back results from the graph.\n",
    "\n",
    "Source: [Langchain AI - Streaming](https://langchain-ai.github.io/langgraph/concepts/low_level/#streaming)"
   ]
  },
  {
   "cell_type": "code",
   "execution_count": 8,
   "metadata": {},
   "outputs": [
    {
     "name": "stdout",
     "output_type": "stream",
     "text": [
      "User: hei på deg\n"
     ]
    },
    {
     "name": "stderr",
     "output_type": "stream",
     "text": [
      "Failed to batch ingest runs: LangSmithError('Failed to POST https://api.smith.langchain.com/runs/batch in LangSmith API. HTTPError(\\'403 Client Error: Forbidden for url: https://api.smith.langchain.com/runs/batch\\', \\'{\"detail\":\"Forbidden\"}\\')')\n"
     ]
    },
    {
     "name": "stdout",
     "output_type": "stream",
     "text": [
      "Assistant: Hei! Hvordan kan jeg hjelpe deg i dag?\n"
     ]
    },
    {
     "name": "stderr",
     "output_type": "stream",
     "text": [
      "Failed to batch ingest runs: LangSmithError('Failed to POST https://api.smith.langchain.com/runs/batch in LangSmith API. HTTPError(\\'403 Client Error: Forbidden for url: https://api.smith.langchain.com/runs/batch\\', \\'{\"detail\":\"Forbidden\"}\\')')\n"
     ]
    },
    {
     "name": "stdout",
     "output_type": "stream",
     "text": [
      "User: 1\n"
     ]
    },
    {
     "name": "stderr",
     "output_type": "stream",
     "text": [
      "Failed to batch ingest runs: LangSmithError('Failed to POST https://api.smith.langchain.com/runs/batch in LangSmith API. HTTPError(\\'403 Client Error: Forbidden for url: https://api.smith.langchain.com/runs/batch\\', \\'{\"detail\":\"Forbidden\"}\\')')\n"
     ]
    },
    {
     "name": "stdout",
     "output_type": "stream",
     "text": [
      "Assistant: Hello! It seems like you entered \"1.\" How can I assist you today?\n"
     ]
    },
    {
     "name": "stderr",
     "output_type": "stream",
     "text": [
      "Failed to batch ingest runs: LangSmithError('Failed to POST https://api.smith.langchain.com/runs/batch in LangSmith API. HTTPError(\\'403 Client Error: Forbidden for url: https://api.smith.langchain.com/runs/batch\\', \\'{\"detail\":\"Forbidden\"}\\')')\n"
     ]
    },
    {
     "name": "stdout",
     "output_type": "stream",
     "text": [
      "User: q\n",
      "Goodbye!\n"
     ]
    }
   ],
   "source": [
    "while True:\n",
    "    user_input = input(\"User: \")\n",
    "    print(\"User: \" + user_input)\n",
    "    if user_input.lower() in [\"quit\", \"exit\", \"q\"]:\n",
    "        print(\"Goodbye!\")\n",
    "        break\n",
    "    for event in graph.stream({\"messages\": (\"user\", user_input)}):\n",
    "        for value in event.values():\n",
    "            print(\"Assistant:\", value[\"messages\"][-1].content)"
   ]
  },
  {
   "cell_type": "markdown",
   "metadata": {},
   "source": [
    "### 4. Lets add tools to the graph\n",
    "\n",
    "It's extremely common to want agents to do tool calling. Tool calling refers to choosing from several available tools, and specifying which ones to call and what the inputs should be. This is extremely common in agents, as you often want to let the LLM decide which tools to call and then call those tools.\n",
    "\n",
    "Source: [Langchain AI - Tools](https://langchain-ai.github.io/langgraph/concepts/agentic_concepts/#tool-calling)"
   ]
  },
  {
   "cell_type": "code",
   "execution_count": 9,
   "metadata": {},
   "outputs": [],
   "source": [
    "from langchain_community.tools.tavily_search import TavilySearchResults\n",
    "\n",
    "tool = TavilySearchResults(max_results=3)\n",
    "tools = [tool]"
   ]
  },
  {
   "cell_type": "code",
   "execution_count": 10,
   "metadata": {},
   "outputs": [],
   "source": [
    "llm_with_tools = llm.bind_tools(tools)\n",
    "\n",
    "def chatbot(state: GraphState):\n",
    "    \"\"\"\n",
    "    Simple bot that invokes the list of previous messages\n",
    "    and returns the result which will be added to the list of messages.\n",
    "    \"\"\"\n",
    "    return {\"messages\": [llm_with_tools.invoke(state[\"messages\"])]}"
   ]
  },
  {
   "cell_type": "code",
   "execution_count": 12,
   "metadata": {},
   "outputs": [
    {
     "data": {
      "image/jpeg": "[encoded data removed]",
      "text/plain": [
       "<IPython.core.display.Image object>"
      ]
     },
     "metadata": {},
     "output_type": "display_data"
    }
   ],
   "source": [
    "from langgraph.prebuilt import ToolNode, tools_condition\n",
    "\n",
    "workflow = StateGraph(GraphState)\n",
    "\n",
    "# Adding nodes to the workflow\n",
    "workflow.add_node(\"chatbot\", chatbot)\n",
    "workflow.add_node(\"tools\", ToolNode(tools))\n",
    "\n",
    "# Defining edges between nodes\n",
    "workflow.add_edge(START, \"chatbot\")\n",
    "workflow.add_edge(\"tools\", \"chatbot\")\n",
    "\n",
    "# Defining conditional edges\n",
    "workflow.add_conditional_edges(\n",
    "    \"chatbot\",\n",
    "    tools_condition\n",
    ")\n",
    "\n",
    "graph = workflow.compile()\n",
    "\n",
    "display(Image(graph.get_graph().draw_mermaid_png()))"
   ]
  },
  {
   "cell_type": "code",
   "execution_count": 17,
   "metadata": {},
   "outputs": [
    {
     "name": "stdout",
     "output_type": "stream",
     "text": [
      "Assistant: \n",
      "Assistant: [{\"url\": \"https://www.nettavisen.no/nyheter/store-odeleggelser/s/5-95-1999464\", \"content\": \"Nyheter \\u2304 Ukraina ... Notodden - Store \\u00f8deleggelser Det jobbes n\\u00e5 p\\u00e5 spreng fra veitrafikkansatte og n\\u00f8detater for \\u00e5 f\\u00e5 bukt med oversv\\u00f8mmelsene rundt om i byen. 04.09.24 05:20\"}, {\"url\": \"https://www.telen.no/notodden\", \"content\": \"Notodden; Notodden FK; Nyheter; N\\u00e6ringsliv; Sauherad; Sport; Stilling ledig; Telen p\\u00e5 Facebook; Tips oss; Ukens papirannonser. V\\u00e5re steder og aviser. Telemarksavisa; Rjukan Arbeiderblad; ... Notodden-mann vant 1,4 millioner: -\\u2060 K\\u00f8dder du n\\u00e5 eller? Gylne tider: Hund - en kj\\u00e6rkommen f\\u00f8lgesvenn gjennom tykt og tynt ...\"}, {\"url\": \"https://www.nrk.no/vestfoldogtelemark/styrtregn-skaper-trobbel-pa-ostlandet-1.17029590\", \"content\": \"VANNET FOSSER: I Notodden har det kommet store nedb\\u00f8rsmengder i natt. Her er fosser vannet ned E134 ved Notodden sentrum onsdag morgen. ... Flere nyheter fra NRK Vestfold og Telemark. Fylte ...\"}]\n",
      "Assistant: Det skjer mye i Notodden for tiden, spesielt knyttet til værforholdene. Her er noen av de viktigste nyhetene:\n",
      "\n",
      "1. Det er store oversvømmelser i Notodden som påvirker veitrafikken og krever innsats fra nødetater og veitrafikkansatte for å håndtere situasjonen. (Kilde: [Nettavisen](https://www.nettavisen.no/nyheter/store-odeleggelser/s/5-95-1999464))\n",
      "\n",
      "2. Det har vært kraftig nedbør i området, som har ført til at vannet fosser nedover E134 ved Notodden sentrum. (Kilde: [NRK](https://www.nrk.no/vestfoldogtelemark/styrtregn-skaper-trobbel-pa-ostlandet-1.17029590))\n",
      "\n",
      "3. I tillegg har en mann fra Notodden vunnet 1,4 millioner kroner, noe som har vært en gledelig nyhet for lokalbefolkningen. (Kilde: [Telen](https://www.telen.no/notodden))\n",
      "\n",
      "Det ser ut til at været er en stor bekymring akkurat nå, men det er også positive nyheter i lokalsamfunnet.\n",
      "Goodbye!\n"
     ]
    }
   ],
   "source": [
    "from langchain_core.messages import BaseMessage\n",
    "\n",
    "while True:\n",
    "    user_input = input(\"User: \")\n",
    "    print(\"User: \", user_input)\n",
    "    if user_input.lower() in [\"quit\", \"exit\", \"q\"]:\n",
    "        print(\"Goodbye!\")\n",
    "        break\n",
    "    for event in graph.stream({\"messages\": [(\"user\", user_input)]}):\n",
    "        for value in event.values():\n",
    "            if isinstance(value[\"messages\"][-1], BaseMessage):\n",
    "                print(\"Assistant:\", value[\"messages\"][-1].content)"
   ]
  },
  {
   "cell_type": "markdown",
   "metadata": {},
   "source": [
    "## TASK 1: CREATE YOUR OWN TOOL\n",
    "\n",
    "#### Suggestions:\n",
    "\n",
    "**Easy:**\n",
    "1. Create a tool that performs a simple mathematical operation (e.g. addition, matrix multiplication, etc.)\n",
    "\n",
    "**Medium:**\n",
    "1. Create a tool that performs a simple data analysis operation (e.g. Pandas.DataFrame.describe())\n",
    "\n",
    "**Hard:**\n",
    "1. Create a tool that writes and executes python code.\n",
    "\n",
    "<br>\n",
    "\n",
    "**Example tool:**\n",
    "```python\n",
    "from langchain_core.tools import tool\n",
    "\n",
    "@tool\n",
    "def add(a: int, b: int) -> int:\n",
    "    \"\"\"Add two integers.\n",
    "\n",
    "    Args:\n",
    "        a: First integer\n",
    "        b: Second integer\n",
    "    \"\"\"\n",
    "    return a + b\n",
    "```\n",
    "\n",
    "#### Documentation:\n",
    "- [Langchain AI - Tools](https://python.langchain.com/v0.2/docs/how_to/tool_calling/)"
   ]
  },
  {
   "cell_type": "code",
   "execution_count": 36,
   "metadata": {},
   "outputs": [],
   "source": [
    "from langchain_core.tools import tool\n",
    "from typing import Annotated\n",
    "\n",
    "\n",
    "@tool\n",
    "#-----------TASK 1: Write your own tool--------------\n",
    "def my_tool():\n",
    "    \"\"\"Your tool description here\"\"\"\n",
    "    pass\n",
    "#-----------------------------------------------------\n",
    "\n",
    "tools = [my_tool]"
   ]
  },
  {
   "cell_type": "code",
   "execution_count": 29,
   "metadata": {},
   "outputs": [
    {
     "data": {
      "image/jpeg": "[encoded data removed]",
      "text/plain": [
       "<IPython.core.display.Image object>"
      ]
     },
     "metadata": {},
     "output_type": "display_data"
    }
   ],
   "source": [
    "\n",
    "llm_with_your_tool = llm.bind_tools(tools)\n",
    "\n",
    "def chatbot_with_your_tool(state: GraphState):\n",
    "    \"\"\"\n",
    "    Simple bot that invokes the list of previous messages\n",
    "    and returns the result which will be added to the list of messages.\n",
    "    \"\"\"\n",
    "    return {\"messages\": [llm_with_your_tool.invoke(state[\"messages\"])]}\n",
    "\n",
    "workflow = StateGraph(GraphState)\n",
    "\n",
    "workflow.add_node(\"chatbot_with_your_tool\", chatbot_with_your_tool)\n",
    "workflow.add_node(\"tools\", ToolNode(tools))\n",
    "\n",
    "workflow.add_edge(START, \"chatbot_with_your_tool\")\n",
    "workflow.add_edge(\"tools\", \"chatbot_with_your_tool\")\n",
    "\n",
    "workflow.add_conditional_edges(\n",
    "    \"chatbot_with_your_tool\",\n",
    "    tools_condition\n",
    ")\n",
    "\n",
    "graph = workflow.compile()\n",
    "\n",
    "display(Image(graph.get_graph().draw_mermaid_png()))"
   ]
  },
  {
   "cell_type": "code",
   "execution_count": 30,
   "metadata": {},
   "outputs": [
    {
     "name": "stdout",
     "output_type": "stream",
     "text": [
      "Assistant: \n",
      "Assistant: 4\n",
      "Assistant: 2 + 2 er lik 4.\n"
     ]
    }
   ],
   "source": [
    "user_input = input(\"User: \")\n",
    "for event in graph.stream({\"messages\": [(\"user\", user_input)]}):\n",
    "    for value in event.values():\n",
    "        if isinstance(value[\"messages\"][-1], BaseMessage):\n",
    "            print(\"Assistant:\", value[\"messages\"][-1].content)"
   ]
  },
  {
   "cell_type": "markdown",
   "metadata": {},
   "source": [
    "### Congratulations🎉 You have now created your first tool."
   ]
  },
  {
   "cell_type": "markdown",
   "metadata": {},
   "source": [
    "# Structured output\n",
    "\n",
    "It's pretty common to want LLMs inside nodes to return structured output when building agents. This is because that structured output can often be used to route to the next step (e.g. choose between two different edges) or update specific keys of the state.\n",
    "\n",
    "Source: [Langchain AI - Structured output](https://langchain-ai.github.io/langgraph/concepts/agentic_concepts/#structured-output)\n",
    "\n",
    "A structured output for weather might look like this:\n",
    "```json\n",
    "{\n",
    "  \"temperature\": 25,\n",
    "  \"humidity\": 0.5,\n",
    "  \"wind_speed\": 10,\n",
    "  \"wind_direction\": \"N\"\n",
    "}\n"
   ]
  },
  {
   "cell_type": "code",
   "execution_count": 57,
   "metadata": {},
   "outputs": [],
   "source": [
    "from langchain_core.pydantic_v1 import BaseModel, Field\n",
    "from typing import List\n",
    "\n",
    "\n",
    "class ResumeSummary(BaseModel):\n",
    "    name: str = Field(..., title=\"Name if the applicant\")\n",
    "    experience: List[str] = Field(..., title=\"List of experiences\")\n",
    "    skills: List[str] = Field(..., title=\"List of skills\")"
   ]
  },
  {
   "cell_type": "markdown",
   "metadata": {},
   "source": [
    "Using the LangChain `.with_structured_output()` method, we can specify the output format of the tool. This will allow us to generate structured output from the tool."
   ]
  },
  {
   "cell_type": "code",
   "execution_count": 58,
   "metadata": {},
   "outputs": [],
   "source": [
    "from langchain_core.prompts import PromptTemplate\n",
    "\n",
    "prompt = PromptTemplate(\n",
    "    template=\"\"\"\n",
    "    {application}\n",
    "    \"\"\"\n",
    ")\n",
    "chain = prompt | llm.with_structured_output(ResumeSummary)"
   ]
  },
  {
   "cell_type": "markdown",
   "metadata": {},
   "source": [
    "Lets load some applications and test the structured output."
   ]
  },
  {
   "cell_type": "code",
   "execution_count": 62,
   "metadata": {},
   "outputs": [
    {
     "name": "stdout",
     "output_type": "stream",
     "text": [
      "Hi! I’m Emily Davis and I’ve been a Senior Data Scientist for 8 years, mostly in the e-commerce sector. My main strengths are deep learning and data visualization. I’ve also worked with Python and TensorFlow extensively. I completed a PhD in Machine Learning and my last project was a demand prediction model that helped reduce stockouts by 20%. I’m looking to branch out into other industries, and I think this role is the perfect opportunity to apply my skills in new and challenging ways.\n",
      "{\n",
      "  \"name\": \"Emily Davis\",\n",
      "  \"experience\": [\n",
      "    \"Senior Data Scientist for 8 years in the e-commerce sector\",\n",
      "    \"Completed a PhD in Machine Learning\",\n",
      "    \"Developed a demand prediction model that reduced stockouts by 20%\"\n",
      "  ],\n",
      "  \"skills\": [\n",
      "    \"deep learning\",\n",
      "    \"data visualization\",\n",
      "    \"Python\",\n",
      "    \"TensorFlow\"\n",
      "  ]\n",
      "}\n",
      "\n",
      "\n",
      "Hello, I’m David Lee, I’ve been working in data science for about 5 years now, mainly focusing on natural language processing (NLP). I have hands-on experience with Python, PyTorch, and scikit-learn. Recently, I worked on building NLP models for sentiment analysis, which improved customer retention by 12%. I have a Master’s in Data Science, and I’m looking to expand my horizons beyond NLP and delve into predictive analytics, which is why this job really caught my eye.\n",
      "{\n",
      "  \"name\": \"David Lee\",\n",
      "  \"experience\": [\n",
      "    \"5 years in data science with a focus on natural language processing (NLP)\",\n",
      "    \"Hands-on experience with Python, PyTorch, and scikit-learn\",\n",
      "    \"Built NLP models for sentiment analysis that improved customer retention by 12%\"\n",
      "  ],\n",
      "  \"skills\": [\n",
      "    \"Natural Language Processing (NLP)\",\n",
      "    \"Python\",\n",
      "    \"PyTorch\",\n",
      "    \"scikit-learn\",\n",
      "    \"Predictive Analytics\"\n",
      "  ]\n",
      "}\n",
      "\n",
      "\n",
      "Hi there, I’m John Smith, I’ve been working in data science for about 7 years now. For the last 5 years, I was a senior data scientist at TechCorp. My expertise lies in Python, TensorFlow, and machine learning, and I’ve done a lot of work with time series forecasting too. I also have a PhD in Computer Science. One of my proudest moments was leading a team to build a recommendation system that boosted product discovery by 15%. I’m really excited to apply for this position because I want to dive deeper into predictive analytics and deploying models at scale.\n",
      "{\n",
      "  \"name\": \"John Smith\",\n",
      "  \"experience\": [\n",
      "    \"7 years in data science\",\n",
      "    \"5 years as a senior data scientist at TechCorp\"\n",
      "  ],\n",
      "  \"skills\": [\n",
      "    \"Python\",\n",
      "    \"TensorFlow\",\n",
      "    \"machine learning\",\n",
      "    \"time series forecasting\",\n",
      "    \"predictive analytics\"\n",
      "  ]\n",
      "}\n",
      "\n",
      "\n",
      "Hey, Sarah here! I’ve been working with data and machine learning for around 4 years. I’ve mainly been with smaller companies, helping them build models for fraud detection and data analysis. My go-to tools are Python and scikit-learn, and I also love using Tableau for data visualization. I have a Master's in Data Science, and one of my recent projects involved developing a fraud detection system that hit 92% accuracy. I’m looking for bigger challenges and feel like this role will allow me to work on projects with larger impacts.\n",
      "{\n",
      "  \"name\": \"Sarah\",\n",
      "  \"experience\": [\n",
      "    \"4 years in data and machine learning\",\n",
      "    \"Developed models for fraud detection\",\n",
      "    \"Conducted data analysis for smaller companies\",\n",
      "    \"Recent project: fraud detection system with 92% accuracy\"\n",
      "  ],\n",
      "  \"skills\": [\n",
      "    \"Python\",\n",
      "    \"scikit-learn\",\n",
      "    \"Tableau\",\n",
      "    \"Data Science\",\n",
      "    \"Machine Learning\"\n",
      "  ]\n",
      "}\n",
      "\n",
      "\n",
      "Hello, my name is Michael Wang. I’ve spent 6 years in the field of data science, mostly focused on applying business intelligence and analytics. I have a solid foundation in Python and SQL, and I enjoy working on predictive modeling projects. I’ve worked on a project that improved sales forecasting and drove a 10% increase in revenue for the company. With a Master’s in Computer Science, I’m always aiming to align technical data insights with broader business strategies. I’m interested in this position because I want to apply my experience on more diverse and complex projects.\n",
      "{\n",
      "  \"name\": \"Michael Wang\",\n",
      "  \"experience\": [\n",
      "    \"6 years in data science\",\n",
      "    \"Focused on business intelligence and analytics\",\n",
      "    \"Worked on sales forecasting project that improved revenue by 10%\"\n",
      "  ],\n",
      "  \"skills\": [\n",
      "    \"Python\",\n",
      "    \"SQL\",\n",
      "    \"Predictive modeling\",\n",
      "    \"Business strategy alignment\"\n",
      "  ]\n",
      "}\n",
      "\n",
      "\n"
     ]
    }
   ],
   "source": [
    "\n",
    "applications = []\n",
    "folder_path = os.path.join(\"data\", \"applications\")\n",
    "for file_name in os.listdir(folder_path):\n",
    "    if file_name.endswith('.txt'):\n",
    "        file_path = os.path.join(folder_path, file_name)\n",
    "        with open(file_path, 'r') as file:\n",
    "            applications.append(file.read())\n",
    "\n",
    "for application in applications:\n",
    "    print(application)\n",
    "    print(chain.invoke(application).json(indent=2))\n",
    "    print(\"\\n\")\n"
   ]
  },
  {
   "cell_type": "markdown",
   "metadata": {},
   "source": [
    "## Task 2: **Create a Structured Output from Unstructured Emails**\n",
    "\n",
    "You are provided with 5 `.txt` files, each containing an email about an office supply order. The emails may include:\n",
    "\n",
    "- Product names, quantities\n",
    "- Delivery dates, addresses\n",
    "- Customer details (names, contacts)\n",
    "\n",
    "Your task is to create a structured object that captures the relevant data (e.g., products, quantities, delivery info) while handling potential noise and inconsistencies. The structure should be designed for future analysis and flexibility to deal with incomplete or messy information.\n",
    "\n",
    "### Example Output:\n",
    "```json\n",
    "{\n",
    "    \"customer\": {\n",
    "        \"name\": \"John Doe\", \n",
    "        \"company\": \"ACME Corp\"\n",
    "    },\n",
    "    \"order_items\": [\n",
    "        {\n",
    "            \"product\": \"Pens\",\n",
    "            \"quantity\": 10\n",
    "        }\n",
    "    ],\n",
    "    \"delivery\": {\n",
    "        \"address\": \"123 Main St\",\n",
    "        \"date\": \"2023-09-12\"\n",
    "    }\n",
    "}\n",
    "```\n",
    "\n",
    "#### Documentation:\n",
    "\n",
    "- [Langchain AI - Structured Output](https://python.langchain.com/v0.2/docs/how_to/structured_output/)\n"
   ]
  },
  {
   "cell_type": "code",
   "execution_count": 66,
   "metadata": {},
   "outputs": [
    {
     "name": "stdout",
     "output_type": "stream",
     "text": [
      "Hey,\n",
      "\n",
      "Can I get 10 laptops? Also, maybe 100 notebooks? I'm not sure about the address right now, but it should be the one we always use. \n",
      "\n",
      "Delivery date... well, I guess sometime next week. \n",
      "\n",
      "Let me know if you need more info.\n",
      "-Tom\n",
      "\n"
     ]
    }
   ],
   "source": [
    "orders = []\n",
    "folder_path = os.path.join(\"data\", \"orders\")\n",
    "for file_name in os.listdir(folder_path):\n",
    "    if file_name.endswith('.txt'):\n",
    "        file_path = os.path.join(folder_path, file_name)\n",
    "        with open(file_path, 'r') as file:\n",
    "            orders.append(file.read())\n",
    "\n",
    "# See how one of the orders look\n",
    "print(orders[0])"
   ]
  },
  {
   "cell_type": "markdown",
   "metadata": {},
   "source": [
    "You job now is to create the Pydantic object that will be used to structure the information in the emails."
   ]
  },
  {
   "cell_type": "code",
   "execution_count": 68,
   "metadata": {},
   "outputs": [],
   "source": [
    "#-----------TASK 2: Write your pydantic object --------------\n",
    "class Order(BaseModel):\n",
    "    pass\n",
    "#------------------------------------------------------------"
   ]
  },
  {
   "cell_type": "code",
   "execution_count": 69,
   "metadata": {},
   "outputs": [],
   "source": [
    "prompt = PromptTemplate(\n",
    "    template=\"\"\"\n",
    "    {order}\n",
    "    \"\"\"\n",
    ")\n",
    "chain = prompt | llm.with_structured_output(Order)"
   ]
  },
  {
   "cell_type": "code",
   "execution_count": 70,
   "metadata": {},
   "outputs": [
    {
     "name": "stdout",
     "output_type": "stream",
     "text": [
      "{}\n"
     ]
    }
   ],
   "source": [
    "orders[0]\n",
    "print(chain.invoke(orders[0]).json(indent=2))"
   ]
  },
  {
   "cell_type": "markdown",
   "metadata": {},
   "source": [
    "# Basic Reflection\n",
    "\n",
    "<div style=\"text-align:center\">\n",
    "    <img src=\"./images/Reflection.png\" alt=\"basic agent reflection\" width='50%'>\n",
    "</div>\n"
   ]
  },
  {
   "cell_type": "code",
   "execution_count": 44,
   "metadata": {},
   "outputs": [
    {
     "data": {
      "image/jpeg": "[encoded data removed]",
      "text/plain": [
       "<IPython.core.display.Image object>"
      ]
     },
     "metadata": {},
     "output_type": "display_data"
    }
   ],
   "source": [
    "llm_gpt_3_5 = ChatOpenAI(\n",
    "    openai_api_key=OPENAI_API_KEY,\n",
    "    model_name=\"gpt-3.5-turbo\",\n",
    ")\n",
    "\n",
    "def essay_writer(state: GraphState):\n",
    "    \"\"\"Node that generate a 3 paragraph essay\"\"\"\n",
    "    prompt = PromptTemplate(\n",
    "        template=\"\"\"\n",
    "        Write a 3 paragraph essay based on the following request:\n",
    "\n",
    "        Request: {messages}\n",
    "        \"\"\"\n",
    "    )\n",
    "    generate = prompt | llm_gpt_3_5\n",
    "    response = generate.invoke({\"messages\": state[\"messages\"]})\n",
    "    print(response)\n",
    "    return {\"messages\": [response]}\n",
    "\n",
    "\n",
    "def essay_grader(state: GraphState):\n",
    "    \"\"\"Node that grades an essay\"\"\"\n",
    "    prompt = PromptTemplate(\n",
    "        template=\"\"\"\n",
    "        Grade the following essay:\n",
    "\n",
    "        Essay: {messages}\n",
    "        \"\"\"\n",
    "    )\n",
    "    generate = prompt | llm\n",
    "    response = generate.invoke({\"messages\": state[\"messages\"]})\n",
    "    return {\"messages\": [response]}\n",
    "\n",
    "\n",
    "def should_continue(state: GraphState):\n",
    "    \"\"\"Node that checks if the user wants to continue\"\"\"\n",
    "    if len(state[\"messages\"]) > 6:\n",
    "        return \"__end__\"\n",
    "    else:\n",
    "        \"essay_grader\"\n",
    "\n",
    "\n",
    "workflow = StateGraph(GraphState)\n",
    "\n",
    "workflow.add_node(\"essay_writer\", essay_writer)\n",
    "workflow.add_node(\"essay_grader\", essay_grader)\n",
    "\n",
    "workflow.add_edge(START, \"essay_writer\")\n",
    "workflow.add_edge(\"essay_grader\", \"essay_writer\")\n",
    "\n",
    "workflow.add_conditional_edges(\n",
    "    \"essay_writer\",\n",
    "    should_continue\n",
    ")\n",
    "\n",
    "graph = workflow.compile()\n",
    "\n",
    "display(Image(graph.get_graph().draw_mermaid_png()))"
   ]
  },
  {
   "cell_type": "code",
   "execution_count": 45,
   "metadata": {},
   "outputs": [
    {
     "name": "stdout",
     "output_type": "stream",
     "text": [
      "content='Education plays a vital role in shaping society and individuals. It provides the necessary knowledge and skills that empower individuals to contribute positively to their communities and the world at large. Education equips individuals with critical thinking, problem-solving, and communication skills that are essential for personal and professional growth. In a rapidly changing world, education is the key to adapting to new technologies and innovations.\\n\\nFurthermore, education is a powerful tool for promoting equality and social justice. It provides opportunities for individuals from diverse backgrounds to access resources and improve their socioeconomic status. Education can break the cycle of poverty and empower individuals to create a better future for themselves and their families. By investing in education, societies can reduce inequality, promote social mobility, and create a more inclusive and cohesive community.\\n\\nIn addition, education plays a crucial role in fostering a sense of civic responsibility and global citizenship. Through education, individuals can develop a deeper understanding of the world around them and the challenges facing society. Education promotes empathy, tolerance, and respect for diversity, which are essential for building a more peaceful and sustainable world. By educating future generations, we can create a more informed and engaged citizenry that is capable of addressing complex global issues.' additional_kwargs={'refusal': None} response_metadata={'token_usage': {'completion_tokens': 235, 'prompt_tokens': 67, 'total_tokens': 302}, 'model_name': 'gpt-3.5-turbo-0125', 'system_fingerprint': None, 'finish_reason': 'stop', 'logprobs': None} id='run-9a5a270d-8456-4789-ae9f-7c12b798a9d2-0' usage_metadata={'input_tokens': 67, 'output_tokens': 235, 'total_tokens': 302}\n"
     ]
    },
    {
     "ename": "ValueError",
     "evalue": "Branch did not return a valid destination",
     "output_type": "error",
     "traceback": [
      "\u001b[0;31m---------------------------------------------------------------------------\u001b[0m",
      "\u001b[0;31mValueError\u001b[0m                                Traceback (most recent call last)",
      "Cell \u001b[0;32mIn[45], line 3\u001b[0m\n\u001b[1;32m      1\u001b[0m request \u001b[38;5;241m=\u001b[39m \u001b[38;5;124m\"\u001b[39m\u001b[38;5;124mWrite an essay on the importance of education in society.\u001b[39m\u001b[38;5;124m\"\u001b[39m\n\u001b[0;32m----> 3\u001b[0m \u001b[38;5;28;43;01mfor\u001b[39;49;00m\u001b[43m \u001b[49m\u001b[43mevent\u001b[49m\u001b[43m \u001b[49m\u001b[38;5;129;43;01min\u001b[39;49;00m\u001b[43m \u001b[49m\u001b[43mgraph\u001b[49m\u001b[38;5;241;43m.\u001b[39;49m\u001b[43mstream\u001b[49m\u001b[43m(\u001b[49m\u001b[43m{\u001b[49m\u001b[38;5;124;43m\"\u001b[39;49m\u001b[38;5;124;43mmessages\u001b[39;49m\u001b[38;5;124;43m\"\u001b[39;49m\u001b[43m:\u001b[49m\u001b[43m \u001b[49m\u001b[43m[\u001b[49m\u001b[43m(\u001b[49m\u001b[38;5;124;43m\"\u001b[39;49m\u001b[38;5;124;43muser\u001b[39;49m\u001b[38;5;124;43m\"\u001b[39;49m\u001b[43m,\u001b[49m\u001b[43m \u001b[49m\u001b[43mrequest\u001b[49m\u001b[43m)\u001b[49m\u001b[43m]\u001b[49m\u001b[43m}\u001b[49m\u001b[43m)\u001b[49m\u001b[43m:\u001b[49m\n\u001b[1;32m      4\u001b[0m \u001b[43m    \u001b[49m\u001b[38;5;28;43;01mfor\u001b[39;49;00m\u001b[43m \u001b[49m\u001b[43mvalue\u001b[49m\u001b[43m \u001b[49m\u001b[38;5;129;43;01min\u001b[39;49;00m\u001b[43m \u001b[49m\u001b[43mevent\u001b[49m\u001b[38;5;241;43m.\u001b[39;49m\u001b[43mvalues\u001b[49m\u001b[43m(\u001b[49m\u001b[43m)\u001b[49m\u001b[43m:\u001b[49m\n\u001b[1;32m      5\u001b[0m \u001b[43m        \u001b[49m\u001b[38;5;28;43;01mif\u001b[39;49;00m\u001b[43m \u001b[49m\u001b[38;5;28;43misinstance\u001b[39;49m\u001b[43m(\u001b[49m\u001b[43mvalue\u001b[49m\u001b[43m[\u001b[49m\u001b[38;5;124;43m\"\u001b[39;49m\u001b[38;5;124;43mmessages\u001b[39;49m\u001b[38;5;124;43m\"\u001b[39;49m\u001b[43m]\u001b[49m\u001b[43m[\u001b[49m\u001b[38;5;241;43m-\u001b[39;49m\u001b[38;5;241;43m1\u001b[39;49m\u001b[43m]\u001b[49m\u001b[43m,\u001b[49m\u001b[43m \u001b[49m\u001b[43mBaseMessage\u001b[49m\u001b[43m)\u001b[49m\u001b[43m:\u001b[49m\n",
      "File \u001b[0;32m~/.pyenv/versions/3.11.8/envs/agent-workshop/lib/python3.11/site-packages/langgraph/pregel/__init__.py:1303\u001b[0m, in \u001b[0;36mPregel.stream\u001b[0;34m(self, input, config, stream_mode, output_keys, interrupt_before, interrupt_after, debug, subgraphs)\u001b[0m\n\u001b[1;32m   1300\u001b[0m         \u001b[38;5;28;01mbreak\u001b[39;00m\n\u001b[1;32m   1302\u001b[0m \u001b[38;5;66;03m# panic on failure or timeout\u001b[39;00m\n\u001b[0;32m-> 1303\u001b[0m \u001b[43m_panic_or_proceed\u001b[49m\u001b[43m(\u001b[49m\u001b[43mall_futures\u001b[49m\u001b[43m,\u001b[49m\u001b[43m \u001b[49m\u001b[43mloop\u001b[49m\u001b[38;5;241;43m.\u001b[39;49m\u001b[43mstep\u001b[49m\u001b[43m)\u001b[49m\n\u001b[1;32m   1304\u001b[0m \u001b[38;5;66;03m# don't keep futures around in memory longer than needed\u001b[39;00m\n\u001b[1;32m   1305\u001b[0m \u001b[38;5;28;01mdel\u001b[39;00m done, inflight, futures\n",
      "File \u001b[0;32m~/.pyenv/versions/3.11.8/envs/agent-workshop/lib/python3.11/site-packages/langgraph/pregel/__init__.py:1733\u001b[0m, in \u001b[0;36m_panic_or_proceed\u001b[0;34m(futs, step, timeout_exc_cls)\u001b[0m\n\u001b[1;32m   1731\u001b[0m             inflight\u001b[38;5;241m.\u001b[39mpop()\u001b[38;5;241m.\u001b[39mcancel()\n\u001b[1;32m   1732\u001b[0m         \u001b[38;5;66;03m# raise the exception\u001b[39;00m\n\u001b[0;32m-> 1733\u001b[0m         \u001b[38;5;28;01mraise\u001b[39;00m exc\n\u001b[1;32m   1735\u001b[0m \u001b[38;5;28;01mif\u001b[39;00m inflight:\n\u001b[1;32m   1736\u001b[0m     \u001b[38;5;66;03m# if we got here means we timed out\u001b[39;00m\n\u001b[1;32m   1737\u001b[0m     \u001b[38;5;28;01mwhile\u001b[39;00m inflight:\n\u001b[1;32m   1738\u001b[0m         \u001b[38;5;66;03m# cancel all pending tasks\u001b[39;00m\n",
      "File \u001b[0;32m~/.pyenv/versions/3.11.8/envs/agent-workshop/lib/python3.11/site-packages/langgraph/pregel/executor.py:59\u001b[0m, in \u001b[0;36mBackgroundExecutor.done\u001b[0;34m(self, task)\u001b[0m\n\u001b[1;32m     57\u001b[0m \u001b[38;5;28;01mdef\u001b[39;00m \u001b[38;5;21mdone\u001b[39m(\u001b[38;5;28mself\u001b[39m, task: concurrent\u001b[38;5;241m.\u001b[39mfutures\u001b[38;5;241m.\u001b[39mFuture) \u001b[38;5;241m-\u001b[39m\u001b[38;5;241m>\u001b[39m \u001b[38;5;28;01mNone\u001b[39;00m:\n\u001b[1;32m     58\u001b[0m     \u001b[38;5;28;01mtry\u001b[39;00m:\n\u001b[0;32m---> 59\u001b[0m         \u001b[43mtask\u001b[49m\u001b[38;5;241;43m.\u001b[39;49m\u001b[43mresult\u001b[49m\u001b[43m(\u001b[49m\u001b[43m)\u001b[49m\n\u001b[1;32m     60\u001b[0m     \u001b[38;5;28;01mexcept\u001b[39;00m GraphInterrupt:\n\u001b[1;32m     61\u001b[0m         \u001b[38;5;66;03m# This exception is an interruption signal, not an error\u001b[39;00m\n\u001b[1;32m     62\u001b[0m         \u001b[38;5;66;03m# so we don't want to re-raise it on exit\u001b[39;00m\n\u001b[1;32m     63\u001b[0m         \u001b[38;5;28mself\u001b[39m\u001b[38;5;241m.\u001b[39mtasks\u001b[38;5;241m.\u001b[39mpop(task)\n",
      "File \u001b[0;32m~/.pyenv/versions/3.11.8/lib/python3.11/concurrent/futures/_base.py:449\u001b[0m, in \u001b[0;36mFuture.result\u001b[0;34m(self, timeout)\u001b[0m\n\u001b[1;32m    447\u001b[0m     \u001b[38;5;28;01mraise\u001b[39;00m CancelledError()\n\u001b[1;32m    448\u001b[0m \u001b[38;5;28;01melif\u001b[39;00m \u001b[38;5;28mself\u001b[39m\u001b[38;5;241m.\u001b[39m_state \u001b[38;5;241m==\u001b[39m FINISHED:\n\u001b[0;32m--> 449\u001b[0m     \u001b[38;5;28;01mreturn\u001b[39;00m \u001b[38;5;28;43mself\u001b[39;49m\u001b[38;5;241;43m.\u001b[39;49m\u001b[43m__get_result\u001b[49m\u001b[43m(\u001b[49m\u001b[43m)\u001b[49m\n\u001b[1;32m    451\u001b[0m \u001b[38;5;28mself\u001b[39m\u001b[38;5;241m.\u001b[39m_condition\u001b[38;5;241m.\u001b[39mwait(timeout)\n\u001b[1;32m    453\u001b[0m \u001b[38;5;28;01mif\u001b[39;00m \u001b[38;5;28mself\u001b[39m\u001b[38;5;241m.\u001b[39m_state \u001b[38;5;129;01min\u001b[39;00m [CANCELLED, CANCELLED_AND_NOTIFIED]:\n",
      "File \u001b[0;32m~/.pyenv/versions/3.11.8/lib/python3.11/concurrent/futures/_base.py:401\u001b[0m, in \u001b[0;36mFuture.__get_result\u001b[0;34m(self)\u001b[0m\n\u001b[1;32m    399\u001b[0m \u001b[38;5;28;01mif\u001b[39;00m \u001b[38;5;28mself\u001b[39m\u001b[38;5;241m.\u001b[39m_exception:\n\u001b[1;32m    400\u001b[0m     \u001b[38;5;28;01mtry\u001b[39;00m:\n\u001b[0;32m--> 401\u001b[0m         \u001b[38;5;28;01mraise\u001b[39;00m \u001b[38;5;28mself\u001b[39m\u001b[38;5;241m.\u001b[39m_exception\n\u001b[1;32m    402\u001b[0m     \u001b[38;5;28;01mfinally\u001b[39;00m:\n\u001b[1;32m    403\u001b[0m         \u001b[38;5;66;03m# Break a reference cycle with the exception in self._exception\u001b[39;00m\n\u001b[1;32m    404\u001b[0m         \u001b[38;5;28mself\u001b[39m \u001b[38;5;241m=\u001b[39m \u001b[38;5;28;01mNone\u001b[39;00m\n",
      "File \u001b[0;32m~/.pyenv/versions/3.11.8/lib/python3.11/concurrent/futures/thread.py:58\u001b[0m, in \u001b[0;36m_WorkItem.run\u001b[0;34m(self)\u001b[0m\n\u001b[1;32m     55\u001b[0m     \u001b[38;5;28;01mreturn\u001b[39;00m\n\u001b[1;32m     57\u001b[0m \u001b[38;5;28;01mtry\u001b[39;00m:\n\u001b[0;32m---> 58\u001b[0m     result \u001b[38;5;241m=\u001b[39m \u001b[38;5;28;43mself\u001b[39;49m\u001b[38;5;241;43m.\u001b[39;49m\u001b[43mfn\u001b[49m\u001b[43m(\u001b[49m\u001b[38;5;241;43m*\u001b[39;49m\u001b[38;5;28;43mself\u001b[39;49m\u001b[38;5;241;43m.\u001b[39;49m\u001b[43margs\u001b[49m\u001b[43m,\u001b[49m\u001b[43m \u001b[49m\u001b[38;5;241;43m*\u001b[39;49m\u001b[38;5;241;43m*\u001b[39;49m\u001b[38;5;28;43mself\u001b[39;49m\u001b[38;5;241;43m.\u001b[39;49m\u001b[43mkwargs\u001b[49m\u001b[43m)\u001b[49m\n\u001b[1;32m     59\u001b[0m \u001b[38;5;28;01mexcept\u001b[39;00m \u001b[38;5;167;01mBaseException\u001b[39;00m \u001b[38;5;28;01mas\u001b[39;00m exc:\n\u001b[1;32m     60\u001b[0m     \u001b[38;5;28mself\u001b[39m\u001b[38;5;241m.\u001b[39mfuture\u001b[38;5;241m.\u001b[39mset_exception(exc)\n",
      "File \u001b[0;32m~/.pyenv/versions/3.11.8/envs/agent-workshop/lib/python3.11/site-packages/langgraph/pregel/retry.py:26\u001b[0m, in \u001b[0;36mrun_with_retry\u001b[0;34m(task, retry_policy)\u001b[0m\n\u001b[1;32m     24\u001b[0m task\u001b[38;5;241m.\u001b[39mwrites\u001b[38;5;241m.\u001b[39mclear()\n\u001b[1;32m     25\u001b[0m \u001b[38;5;66;03m# run the task\u001b[39;00m\n\u001b[0;32m---> 26\u001b[0m \u001b[43mtask\u001b[49m\u001b[38;5;241;43m.\u001b[39;49m\u001b[43mproc\u001b[49m\u001b[38;5;241;43m.\u001b[39;49m\u001b[43minvoke\u001b[49m\u001b[43m(\u001b[49m\u001b[43mtask\u001b[49m\u001b[38;5;241;43m.\u001b[39;49m\u001b[43minput\u001b[49m\u001b[43m,\u001b[49m\u001b[43m \u001b[49m\u001b[43mtask\u001b[49m\u001b[38;5;241;43m.\u001b[39;49m\u001b[43mconfig\u001b[49m\u001b[43m)\u001b[49m\n\u001b[1;32m     27\u001b[0m \u001b[38;5;66;03m# if successful, end\u001b[39;00m\n\u001b[1;32m     28\u001b[0m \u001b[38;5;28;01mbreak\u001b[39;00m\n",
      "File \u001b[0;32m~/.pyenv/versions/3.11.8/envs/agent-workshop/lib/python3.11/site-packages/langchain_core/runnables/base.py:2878\u001b[0m, in \u001b[0;36mRunnableSequence.invoke\u001b[0;34m(self, input, config, **kwargs)\u001b[0m\n\u001b[1;32m   2876\u001b[0m             \u001b[38;5;28minput\u001b[39m \u001b[38;5;241m=\u001b[39m context\u001b[38;5;241m.\u001b[39mrun(step\u001b[38;5;241m.\u001b[39minvoke, \u001b[38;5;28minput\u001b[39m, config, \u001b[38;5;241m*\u001b[39m\u001b[38;5;241m*\u001b[39mkwargs)\n\u001b[1;32m   2877\u001b[0m         \u001b[38;5;28;01melse\u001b[39;00m:\n\u001b[0;32m-> 2878\u001b[0m             \u001b[38;5;28minput\u001b[39m \u001b[38;5;241m=\u001b[39m context\u001b[38;5;241m.\u001b[39mrun(step\u001b[38;5;241m.\u001b[39minvoke, \u001b[38;5;28minput\u001b[39m, config)\n\u001b[1;32m   2879\u001b[0m \u001b[38;5;66;03m# finish the root run\u001b[39;00m\n\u001b[1;32m   2880\u001b[0m \u001b[38;5;28;01mexcept\u001b[39;00m \u001b[38;5;167;01mBaseException\u001b[39;00m \u001b[38;5;28;01mas\u001b[39;00m e:\n",
      "File \u001b[0;32m~/.pyenv/versions/3.11.8/envs/agent-workshop/lib/python3.11/site-packages/langgraph/utils.py:102\u001b[0m, in \u001b[0;36mRunnableCallable.invoke\u001b[0;34m(self, input, config, **kwargs)\u001b[0m\n\u001b[1;32m    100\u001b[0m     \u001b[38;5;28;01mif\u001b[39;00m accepts_config(\u001b[38;5;28mself\u001b[39m\u001b[38;5;241m.\u001b[39mfunc):\n\u001b[1;32m    101\u001b[0m         kwargs[\u001b[38;5;124m\"\u001b[39m\u001b[38;5;124mconfig\u001b[39m\u001b[38;5;124m\"\u001b[39m] \u001b[38;5;241m=\u001b[39m config\n\u001b[0;32m--> 102\u001b[0m     ret \u001b[38;5;241m=\u001b[39m \u001b[43mcontext\u001b[49m\u001b[38;5;241;43m.\u001b[39;49m\u001b[43mrun\u001b[49m\u001b[43m(\u001b[49m\u001b[38;5;28;43mself\u001b[39;49m\u001b[38;5;241;43m.\u001b[39;49m\u001b[43mfunc\u001b[49m\u001b[43m,\u001b[49m\u001b[43m \u001b[49m\u001b[38;5;28;43minput\u001b[39;49m\u001b[43m,\u001b[49m\u001b[43m \u001b[49m\u001b[38;5;241;43m*\u001b[39;49m\u001b[38;5;241;43m*\u001b[39;49m\u001b[43mkwargs\u001b[49m\u001b[43m)\u001b[49m\n\u001b[1;32m    103\u001b[0m \u001b[38;5;28;01mif\u001b[39;00m \u001b[38;5;28misinstance\u001b[39m(ret, Runnable) \u001b[38;5;129;01mand\u001b[39;00m \u001b[38;5;28mself\u001b[39m\u001b[38;5;241m.\u001b[39mrecurse:\n\u001b[1;32m    104\u001b[0m     \u001b[38;5;28;01mreturn\u001b[39;00m ret\u001b[38;5;241m.\u001b[39minvoke(\u001b[38;5;28minput\u001b[39m, config)\n",
      "File \u001b[0;32m~/.pyenv/versions/3.11.8/envs/agent-workshop/lib/python3.11/site-packages/langgraph/graph/graph.py:89\u001b[0m, in \u001b[0;36mBranch._route\u001b[0;34m(self, input, config, reader, writer)\u001b[0m\n\u001b[1;32m     87\u001b[0m     value \u001b[38;5;241m=\u001b[39m \u001b[38;5;28minput\u001b[39m\n\u001b[1;32m     88\u001b[0m result \u001b[38;5;241m=\u001b[39m \u001b[38;5;28mself\u001b[39m\u001b[38;5;241m.\u001b[39mpath\u001b[38;5;241m.\u001b[39minvoke(value, config)\n\u001b[0;32m---> 89\u001b[0m \u001b[38;5;28;01mreturn\u001b[39;00m \u001b[38;5;28;43mself\u001b[39;49m\u001b[38;5;241;43m.\u001b[39;49m\u001b[43m_finish\u001b[49m\u001b[43m(\u001b[49m\u001b[43mwriter\u001b[49m\u001b[43m,\u001b[49m\u001b[43m \u001b[49m\u001b[38;5;28;43minput\u001b[39;49m\u001b[43m,\u001b[49m\u001b[43m \u001b[49m\u001b[43mresult\u001b[49m\u001b[43m)\u001b[49m\n",
      "File \u001b[0;32m~/.pyenv/versions/3.11.8/envs/agent-workshop/lib/python3.11/site-packages/langgraph/graph/graph.py:120\u001b[0m, in \u001b[0;36mBranch._finish\u001b[0;34m(self, writer, input, result)\u001b[0m\n\u001b[1;32m    118\u001b[0m     destinations \u001b[38;5;241m=\u001b[39m result\n\u001b[1;32m    119\u001b[0m \u001b[38;5;28;01mif\u001b[39;00m \u001b[38;5;28many\u001b[39m(dest \u001b[38;5;129;01mis\u001b[39;00m \u001b[38;5;28;01mNone\u001b[39;00m \u001b[38;5;129;01mor\u001b[39;00m dest \u001b[38;5;241m==\u001b[39m START \u001b[38;5;28;01mfor\u001b[39;00m dest \u001b[38;5;129;01min\u001b[39;00m destinations):\n\u001b[0;32m--> 120\u001b[0m     \u001b[38;5;28;01mraise\u001b[39;00m \u001b[38;5;167;01mValueError\u001b[39;00m(\u001b[38;5;124m\"\u001b[39m\u001b[38;5;124mBranch did not return a valid destination\u001b[39m\u001b[38;5;124m\"\u001b[39m)\n\u001b[1;32m    121\u001b[0m \u001b[38;5;28;01mif\u001b[39;00m \u001b[38;5;28many\u001b[39m(p\u001b[38;5;241m.\u001b[39mnode \u001b[38;5;241m==\u001b[39m END \u001b[38;5;28;01mfor\u001b[39;00m p \u001b[38;5;129;01min\u001b[39;00m destinations \u001b[38;5;28;01mif\u001b[39;00m \u001b[38;5;28misinstance\u001b[39m(p, Send)):\n\u001b[1;32m    122\u001b[0m     \u001b[38;5;28;01mraise\u001b[39;00m InvalidUpdateError(\u001b[38;5;124m\"\u001b[39m\u001b[38;5;124mCannot send a packet to the END node\u001b[39m\u001b[38;5;124m\"\u001b[39m)\n",
      "\u001b[0;31mValueError\u001b[0m: Branch did not return a valid destination"
     ]
    }
   ],
   "source": [
    "request = \"Write an essay on the importance of education in society.\"\n",
    "\n",
    "for event in graph.stream({\"messages\": [(\"user\", request)]}):\n",
    "    for value in event.values():\n",
    "        if isinstance(value[\"messages\"][-1], BaseMessage):\n",
    "            print(\"Assistant:\", value[\"messages\"][-1].content)"
   ]
  },
  {
   "cell_type": "code",
   "execution_count": null,
   "metadata": {},
   "outputs": [],
   "source": []
  }
 ],
 "metadata": {
  "kernelspec": {
   "display_name": "agent-workshop",
   "language": "python",
   "name": "python3"
  },
  "language_info": {
   "codemirror_mode": {
    "name": "ipython",
    "version": 3
   },
   "file_extension": ".py",
   "mimetype": "text/x-python",
   "name": "python",
   "nbconvert_exporter": "python",
   "pygments_lexer": "ipython3",
   "version": "3.11.8"
  }
 },
 "nbformat": 4,
 "nbformat_minor": 2
}
