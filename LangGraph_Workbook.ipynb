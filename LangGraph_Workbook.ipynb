{
 "cells": [
  {
   "cell_type": "markdown",
   "metadata": {},
   "source": [
    "# Astar Consulting - LangGraph Workshop\n",
    "<div style=\"text-align:center\">\n",
    "    <img src=\"./images/Astar Consulting.png\" alt=\"levels of automation\" width='80%'>\n",
    "</div>\n",
    "\n",
    "Welcome to the LangGraph Workshop! This workshop is designed to help you understand the basic concepts of building LLM applications with a focus on the LangGraph library.\n",
    "\n",
    "**Astar Consulting:**\n",
    "- [Website](https://www.astarconsulting.no/)\n",
    "- [LinkedIn](https://www.linkedin.com/company/astarconsulting)\n",
    "\n",
    "- [Erik Nymo Bohne](https://www.linkedin.com/in/erik-nymo-bohne-25868321a/)\n",
    "- [Mikael Steenbuch](https://www.linkedin.com/in/mikael-steenbuch/)"
   ]
  },
  {
   "cell_type": "markdown",
   "metadata": {},
   "source": [
    "## Sources\n",
    "\n",
    "- [Langchain](https://python.langchain.com/v0.2/docs/introduction/)🦜\n",
    "- [Langgraph](https://langchain-ai.github.io/langgraph/tutorials/introduction/)🕸️\n",
    "- [Langsmith](https://docs.smith.langchain.com/)🛠️"
   ]
  },
  {
   "cell_type": "markdown",
   "metadata": {},
   "source": [
    "## Levels of automation - Motivation\n",
    "The rapid development in large language models and frameworks has made it possible to automate a wide range of tasks. The levels of automation can be seen as a scale of how much human intervention is needed to complete a task. The scale ranges from 1 to 6, where 1 is no automation and 6 is full automation. With LangGraph we are designing systems to achieve level 4 and 5, and even reacing level 6 in some cases.\n",
    "<div style=\"text-align:center\">\n",
    "    <img src=\"./images/LevelsOfAutomation.png\" alt=\"levels of automation\" width='80%'>\n",
    "</div>"
   ]
  },
  {
   "cell_type": "markdown",
   "metadata": {},
   "source": [
    "### Install the required packages"
   ]
  },
  {
   "cell_type": "code",
   "execution_count": null,
   "metadata": {},
   "outputs": [],
   "source": [
    "%pip install -U langgraph langsmith langchain_openai langchain_community"
   ]
  },
  {
   "cell_type": "markdown",
   "metadata": {},
   "source": [
    "### Set environment variables"
   ]
  },
  {
   "cell_type": "code",
   "execution_count": 10,
   "metadata": {},
   "outputs": [],
   "source": [
    "import os\n",
    "\n",
    "os.environ[\"LANGCHAIN_API_KEY\"] = \"your_key\"\n",
    "os.environ[\"LANGCHAIN_TRACING_V2\"] = \"false\"\n",
    "os.environ[\"LANGCHAIN_PROJECT\"] = \"LangGraph Tutorial\"\n",
    "\n",
    "os.environ[\"OPENAI_API_KEY\"] = \"sk-keUrFilXq-v8soqanKzZWKjmeTRIcfFNuNNRQOney1T3BlbkFJfXcKvwluG426stbMGLL0ADmobqOWS2atbDth4VqjIA\""
   ]
  },
  {
   "cell_type": "markdown",
   "metadata": {},
   "source": [
    "### 1. The State of the graph\n",
    "The first thing you do when you define a graph is define the `State` of the graph. The `State` consists of the schema of the graph as well as `reducer functions` which specify how to apply updates to the state. The schema of the `State` will be the input schema to all `Nodes` and `Edges` in the graph, and can be either a `TypedDict` or a `Pydantic` model. All `Nodes` will emit updates to the `State` which are then applied using the specified reducer function.\n",
    "\n",
    "Source: [Langchain AI - State of the graph](https://langchain-ai.github.io/langgraph/concepts/low_level/#state)\n"
   ]
  },
  {
   "cell_type": "code",
   "execution_count": 12,
   "metadata": {},
   "outputs": [],
   "source": [
    "from typing import Annotated\n",
    "from typing import TypedDict\n",
    "from langgraph.graph.message import add_messages\n",
    "\n",
    "\n",
    "class GraphState(TypedDict):\n",
    "    # Messages have the type \"list\". The `add_messages` function\n",
    "    # in the annotation defines how this state key should be updated\n",
    "    # (in this case, it appends messages to the list, rather than overwriting them)\n",
    "    messages: Annotated[list, add_messages]"
   ]
  },
  {
   "cell_type": "markdown",
   "metadata": {},
   "source": [
    "### 2. Nodes for the graph\n",
    "In LangGraph, nodes are typically python functions (sync or async) where the first positional argument is the state, and (optionally), the second positional argument is a \"config\", containing optional configurable parameters (such as a thread_id).\n",
    "\n",
    "Source: [Langchain AI - Nodes](https://langchain-ai.github.io/langgraph/concepts/low_level/#nodes)"
   ]
  },
  {
   "cell_type": "code",
   "execution_count": 13,
   "metadata": {},
   "outputs": [],
   "source": [
    "from langchain_openai import ChatOpenAI\n",
    "\n",
    "llm = ChatOpenAI(\n",
    "    model_name=\"gpt-4o-mini\",\n",
    ")\n",
    "\n",
    "def chatbot(state: GraphState):\n",
    "    \"\"\"\n",
    "    Simple bot that invokes the list of previous messages\n",
    "    and returns the result which will be added to the list of messages.\n",
    "    \"\"\"\n",
    "    return {\"messages\": [llm.invoke(state[\"messages\"])]}"
   ]
  },
  {
   "cell_type": "code",
   "execution_count": 14,
   "metadata": {},
   "outputs": [
    {
     "data": {
      "text/plain": [
       "{'messages': [AIMessage(content='Hovedstaden i Norge er Oslo.', additional_kwargs={'refusal': None}, response_metadata={'token_usage': {'completion_tokens': 9, 'prompt_tokens': 15, 'total_tokens': 24}, 'model_name': 'gpt-4o-mini-2024-07-18', 'system_fingerprint': 'fp_5bd87c427a', 'finish_reason': 'stop', 'logprobs': None}, id='run-837ecb9a-1ec0-43d5-9c1c-40e8b8c8748a-0', usage_metadata={'input_tokens': 15, 'output_tokens': 9, 'total_tokens': 24})]}"
      ]
     },
     "execution_count": 14,
     "metadata": {},
     "output_type": "execute_result"
    }
   ],
   "source": [
    "message = (\"human\", \"Hva er hovedstaden i Norge?\")\n",
    "chatbot({\"messages\": [message]})"
   ]
  },
  {
   "cell_type": "markdown",
   "metadata": {},
   "source": [
    "### 3. Edges - The workflow of the graph\n",
    "Edges define how the logic is routed and how the graph decides to stop. This is a big part of how your agents work and how different nodes communicate with each other. There are a few key types of edges:\n",
    "\n",
    "- **Normal Edges**: Go directly from one node to the next.\n",
    "- **Conditional Edges**: Call a function to determine which node(s) to go to next.\n",
    "- **Entry Point**: Which node to call first when user input arrives.\n",
    "- **Conditional Entry Point**: Call a function to determine which node(s) to call first when user input arrives.\n",
    "\n",
    "A node can have **MULTIPLE** outgoing edges. If a node has multiple out-going edges, **all** of those destination nodes will be executed in parallel as a part of the next superstep.\n",
    "\n",
    "Source: [Langchain AI - Edges](https://langchain-ai.github.io/langgraph/concepts/low_level/#edges)"
   ]
  },
  {
   "cell_type": "code",
   "execution_count": 15,
   "metadata": {},
   "outputs": [],
   "source": [
    "from langgraph.graph import StateGraph, START, END\n",
    "\n",
    "workflow = StateGraph(GraphState)\n",
    "\n",
    "# Adding nodes to the workflow\n",
    "workflow.add_node(\"chatbot\", chatbot)\n",
    "\n",
    "# Defining edges between nodes\n",
    "workflow.add_edge(START, \"chatbot\")\n",
    "workflow.add_edge(\"chatbot\", END)\n",
    "\n",
    "graph = workflow.compile()\n"
   ]
  },
  {
   "cell_type": "markdown",
   "metadata": {},
   "source": [
    "### Lets take a look at our graph"
   ]
  },
  {
   "cell_type": "code",
   "execution_count": 16,
   "metadata": {},
   "outputs": [
    {
     "data": {
      "image/jpeg": "[encoded data removed]",
      "text/plain": [
       "<IPython.core.display.Image object>"
      ]
     },
     "metadata": {},
     "output_type": "display_data"
    }
   ],
   "source": [
    "from IPython.display import Image, display\n",
    "\n",
    "display(Image(graph.get_graph().draw_mermaid_png()))"
   ]
  },
  {
   "cell_type": "markdown",
   "metadata": {},
   "source": [
    "### Invoke/stream the graph\n",
    "LangGraph is built with first class support for streaming. There are several different ways to stream back results from the graph.\n",
    "\n",
    "Source: [Langchain AI - Streaming](https://langchain-ai.github.io/langgraph/concepts/low_level/#streaming)"
   ]
  },
  {
   "cell_type": "code",
   "execution_count": 17,
   "metadata": {},
   "outputs": [
    {
     "name": "stdout",
     "output_type": "stream",
     "text": [
      "User: Hei på deg\n",
      "Assistant: Hei! Hvordan kan jeg hjelpe deg i dag?\n",
      "User: Det går fint du da?\n",
      "Assistant: Ja, det går fint! Takk for at du spør. Hvordan har du det?\n",
      "User: 1\n",
      "Assistant: Hello! It looks like you entered \"1.\" How can I assist you today?\n",
      "User: q\n",
      "Goodbye!\n"
     ]
    }
   ],
   "source": [
    "while True:\n",
    "    user_input = input(\"User: \")\n",
    "    print(\"User: \" + user_input)\n",
    "    if user_input.lower() in [\"quit\", \"exit\", \"q\"]:\n",
    "        print(\"Goodbye!\")\n",
    "        break\n",
    "    for event in graph.stream({\"messages\": (\"user\", user_input)}):\n",
    "        for value in event.values():\n",
    "            print(\"Assistant:\", value[\"messages\"][-1].content)"
   ]
  },
  {
   "cell_type": "markdown",
   "metadata": {},
   "source": [
    "### 4. Lets add tools to the graph\n",
    "\n",
    "It's extremely common to want agents to do tool calling. Tool calling refers to choosing from several available tools, and specifying which ones to call and what the inputs should be. This is extremely common in agents, as you often want to let the LLM decide which tools to call and then call those tools.\n",
    "\n",
    "Source: [Langchain AI - Tools](https://langchain-ai.github.io/langgraph/concepts/agentic_concepts/#tool-calling)"
   ]
  },
  {
   "cell_type": "code",
   "execution_count": 18,
   "metadata": {},
   "outputs": [],
   "source": [
    "from langchain_community.tools.tavily_search import TavilySearchResults\n",
    "\n",
    "tool = TavilySearchResults(max_results=3)\n",
    "tools = [tool]"
   ]
  },
  {
   "cell_type": "code",
   "execution_count": 19,
   "metadata": {},
   "outputs": [],
   "source": [
    "llm_with_tools = llm.bind_tools(tools)\n",
    "\n",
    "def chatbot(state: GraphState):\n",
    "    \"\"\"\n",
    "    Simple bot that invokes the list of previous messages\n",
    "    and returns the result which will be added to the list of messages.\n",
    "    \"\"\"\n",
    "    return {\"messages\": [llm_with_tools.invoke(state[\"messages\"])]}"
   ]
  },
  {
   "cell_type": "code",
   "execution_count": 20,
   "metadata": {},
   "outputs": [
    {
     "data": {
      "image/jpeg": "[encoded data removed]",
      "text/plain": [
       "<IPython.core.display.Image object>"
      ]
     },
     "metadata": {},
     "output_type": "display_data"
    }
   ],
   "source": [
    "from langgraph.prebuilt import ToolNode, tools_condition\n",
    "\n",
    "workflow = StateGraph(GraphState)\n",
    "\n",
    "# Adding nodes to the workflow\n",
    "workflow.add_node(\"chatbot\", chatbot)\n",
    "workflow.add_node(\"tools\", ToolNode(tools))\n",
    "\n",
    "# Defining edges between nodes\n",
    "workflow.add_edge(START, \"chatbot\")\n",
    "workflow.add_edge(\"tools\", \"chatbot\")\n",
    "\n",
    "# Defining conditional edges\n",
    "workflow.add_conditional_edges(\n",
    "    \"chatbot\",\n",
    "    tools_condition\n",
    ")\n",
    "\n",
    "graph = workflow.compile()\n",
    "\n",
    "display(Image(graph.get_graph().draw_mermaid_png()))"
   ]
  },
  {
   "cell_type": "code",
   "execution_count": 21,
   "metadata": {},
   "outputs": [
    {
     "name": "stdout",
     "output_type": "stream",
     "text": [
      "User:  Hva er fyllingsgraden på norwegianflyene i august\n",
      "Assistant: \n",
      "Assistant: [{\"url\": \"https://media.no.norwegian.com/documents/traffic-report-august-2023-dot-pdf-434472\", \"content\": \"Norwegian med 2,1 millioner passasjerer i august . Norwegian hadde 2,1 millioner passasjerer og en fyllingsgrad p\\u00e5 85,2 prosent i august. Regulariteten var spesielt h\\u00f8y, og 99,6 prosent av oppsatte flyvninger ble gjennomf\\u00f8rt. ... I 2023 hadde Norwegian over 20 millioner passasjerer og en fl\\u00e5te p\\u00e5 87 Boeing 737-800 og 737 MAX 8-fly.\"}, {\"url\": \"https://media.no.norwegian.com/pressreleases/norwegian-med-21-millioner-passasjerer-i-august-3271222\", \"content\": \"Norwegian hadde 2,1 millioner passasjerer og en fyllingsgrad p\\u00e5 85,2 prosent i august. Regulariteten var spesielt h\\u00f8y, og 99,6 prosent av oppsatte flyvninger ble gjennomf\\u00f8rt. ... I 2023 hadde Norwegian over 20 millioner passasjerer og en fl\\u00e5te p\\u00e5 87 Boeing 737-800 og 737 MAX 8-fly. Wider\\u00f8es Flyveselskap er Norges eldste flyselskap og har ...\"}, {\"url\": \"https://www.msn.com/nb-no/nyheter/other/passasjer\\u00f8kning-for-norwegian-og-wider\\u00f8e-i-august/ar-AA1q1TJS\", \"content\": \"Vi har hatt en markant \\u00f8kning i kapasitet og samtidig klart \\u00e5 \\u00f8ke b\\u00e5de fyllingsgrad og inntekt per passasjerkilometer fra august 2023, sier Norwegians konsernsjef Geir Karlsen i en ...\"}]\n",
      "Assistant: I august 2023 hadde Norwegian en fyllingsgrad på 85,2 prosent, med 2,1 millioner passasjerer. Regulariteten var også høy, med 99,6 prosent av oppsatte flyvninger gjennomført.\n",
      "User:  q\n",
      "Goodbye!\n"
     ]
    }
   ],
   "source": [
    "from langchain_core.messages import BaseMessage\n",
    "\n",
    "while True:\n",
    "    user_input = input(\"User: \")\n",
    "    print(\"User: \", user_input)\n",
    "    if user_input.lower() in [\"quit\", \"exit\", \"q\"]:\n",
    "        print(\"Goodbye!\")\n",
    "        break\n",
    "    for event in graph.stream({\"messages\": [(\"user\", user_input)]}):\n",
    "        for value in event.values():\n",
    "            if isinstance(value[\"messages\"][-1], BaseMessage):\n",
    "                print(\"Assistant:\", value[\"messages\"][-1].content)"
   ]
  },
  {
   "cell_type": "markdown",
   "metadata": {},
   "source": [
    "## TASK 1: CREATE YOUR OWN TOOL\n",
    "\n",
    "#### Suggestions:\n",
    "\n",
    "**Easy:**\n",
    "1. Create a tool that performs a simple mathematical operation (e.g. addition, matrix multiplication, etc.)\n",
    "\n",
    "**Medium:**\n",
    "1. Create a tool that performs a simple data analysis operation (e.g. Pandas.DataFrame.describe())\n",
    "\n",
    "**Hard:**\n",
    "1. Create a tool that writes and executes python code.\n",
    "\n",
    "<br>\n",
    "\n",
    "**Example tool:**\n",
    "```python\n",
    "from langchain_core.tools import tool\n",
    "\n",
    "@tool\n",
    "def add(a: int, b: int) -> int:\n",
    "    \"\"\"Add two integers.\n",
    "\n",
    "    Args:\n",
    "        a: First integer\n",
    "        b: Second integer\n",
    "    \"\"\"\n",
    "    return a + b\n",
    "```\n",
    "\n",
    "#### Documentation:\n",
    "- [Langchain AI - Tools](https://python.langchain.com/v0.2/docs/how_to/tool_calling/)"
   ]
  },
  {
   "cell_type": "code",
   "execution_count": null,
   "metadata": {},
   "outputs": [],
   "source": [
    "from langchain_core.tools import tool\n",
    "from typing import Annotated\n",
    "\n",
    "\n",
    "@tool\n",
    "#-----------TASK 1: Write your own tool--------------\n",
    "def my_tool():\n",
    "    \"\"\"Your tool description here\"\"\"\n",
    "    pass\n",
    "#-----------------------------------------------------\n",
    "\n",
    "tools = [my_tool]"
   ]
  },
  {
   "cell_type": "code",
   "execution_count": null,
   "metadata": {},
   "outputs": [],
   "source": [
    "\n",
    "llm_with_your_tool = llm.bind_tools(tools)\n",
    "\n",
    "def chatbot_with_your_tool(state: GraphState):\n",
    "    \"\"\"\n",
    "    Simple bot that invokes the list of previous messages\n",
    "    and returns the result which will be added to the list of messages.\n",
    "    \"\"\"\n",
    "    return {\"messages\": [llm_with_your_tool.invoke(state[\"messages\"])]}\n",
    "\n",
    "workflow = StateGraph(GraphState)\n",
    "\n",
    "workflow.add_node(\"chatbot_with_your_tool\", chatbot_with_your_tool)\n",
    "workflow.add_node(\"tools\", ToolNode(tools))\n",
    "\n",
    "workflow.add_edge(START, \"chatbot_with_your_tool\")\n",
    "workflow.add_edge(\"tools\", \"chatbot_with_your_tool\")\n",
    "\n",
    "workflow.add_conditional_edges(\n",
    "    \"chatbot_with_your_tool\",\n",
    "    tools_condition\n",
    ")\n",
    "\n",
    "graph = workflow.compile()\n",
    "\n",
    "display(Image(graph.get_graph().draw_mermaid_png()))"
   ]
  },
  {
   "cell_type": "code",
   "execution_count": null,
   "metadata": {},
   "outputs": [],
   "source": [
    "user_input = input(\"User: \")\n",
    "for event in graph.stream({\"messages\": [(\"user\", user_input)]}):\n",
    "    for value in event.values():\n",
    "        if isinstance(value[\"messages\"][-1], BaseMessage):\n",
    "            print(\"Assistant:\", value[\"messages\"][-1].content)"
   ]
  },
  {
   "cell_type": "markdown",
   "metadata": {},
   "source": [
    "### Congratulations🎉 You have now created your first tool."
   ]
  },
  {
   "cell_type": "markdown",
   "metadata": {},
   "source": [
    "# Structured output\n",
    "\n",
    "It's pretty common to want LLMs inside nodes to return structured output when building agents. This is because that structured output can often be used to route to the next step (e.g. choose between two different edges) or update specific keys of the state.\n",
    "\n",
    "Source: [Langchain AI - Structured output](https://langchain-ai.github.io/langgraph/concepts/agentic_concepts/#structured-output)\n",
    "\n",
    "A structured output for weather might look like this:\n",
    "```json\n",
    "{\n",
    "  \"temperature\": 25,\n",
    "  \"humidity\": 0.5,\n",
    "  \"wind_speed\": 10,\n",
    "  \"wind_direction\": \"N\"\n",
    "}\n"
   ]
  },
  {
   "cell_type": "code",
   "execution_count": 23,
   "metadata": {},
   "outputs": [],
   "source": [
    "from langchain_core.pydantic_v1 import BaseModel, Field\n",
    "from typing import List\n",
    "\n",
    "\n",
    "class ResumeSummary(BaseModel):\n",
    "    name: str = Field(..., title=\"Name if the applicant\")\n",
    "    experience: List[str] = Field(..., title=\"List of experiences\")\n",
    "    skills: List[str] = Field(..., title=\"List of skills\")"
   ]
  },
  {
   "cell_type": "markdown",
   "metadata": {},
   "source": [
    "Using the LangChain `.with_structured_output()` method, we can specify the output format of the tool. This will allow us to generate structured output from the tool."
   ]
  },
  {
   "cell_type": "code",
   "execution_count": 24,
   "metadata": {},
   "outputs": [],
   "source": [
    "from langchain_core.prompts import PromptTemplate\n",
    "\n",
    "prompt = PromptTemplate(\n",
    "    template=\"\"\"\n",
    "    {application}\n",
    "    \"\"\"\n",
    ")\n",
    "chain = prompt | llm.with_structured_output(ResumeSummary)"
   ]
  },
  {
   "cell_type": "markdown",
   "metadata": {},
   "source": [
    "Lets load some applications and test the structured output."
   ]
  },
  {
   "cell_type": "code",
   "execution_count": 25,
   "metadata": {},
   "outputs": [
    {
     "name": "stdout",
     "output_type": "stream",
     "text": [
      "Hi! I’m Emily Davis and I’ve been a Senior Data Scientist for 8 years, mostly in the e-commerce sector. My main strengths are deep learning and data visualization. I’ve also worked with Python and TensorFlow extensively. I completed a PhD in Machine Learning and my last project was a demand prediction model that helped reduce stockouts by 20%. I’m looking to branch out into other industries, and I think this role is the perfect opportunity to apply my skills in new and challenging ways.\n",
      "{\n",
      "  \"name\": \"Emily Davis\",\n",
      "  \"experience\": [\n",
      "    \"8 years as a Senior Data Scientist in the e-commerce sector\",\n",
      "    \"Completed a PhD in Machine Learning\",\n",
      "    \"Developed a demand prediction model that reduced stockouts by 20%\"\n",
      "  ],\n",
      "  \"skills\": [\n",
      "    \"Deep Learning\",\n",
      "    \"Data Visualization\",\n",
      "    \"Python\",\n",
      "    \"TensorFlow\"\n",
      "  ]\n",
      "}\n",
      "\n",
      "\n",
      "Hello, I’m David Lee, I’ve been working in data science for about 5 years now, mainly focusing on natural language processing (NLP). I have hands-on experience with Python, PyTorch, and scikit-learn. Recently, I worked on building NLP models for sentiment analysis, which improved customer retention by 12%. I have a Master’s in Data Science, and I’m looking to expand my horizons beyond NLP and delve into predictive analytics, which is why this job really caught my eye.\n",
      "{\n",
      "  \"name\": \"David Lee\",\n",
      "  \"experience\": [\n",
      "    \"5 years in data science\",\n",
      "    \"Worked on building NLP models for sentiment analysis that improved customer retention by 12%\"\n",
      "  ],\n",
      "  \"skills\": [\n",
      "    \"Python\",\n",
      "    \"PyTorch\",\n",
      "    \"scikit-learn\",\n",
      "    \"Natural Language Processing\"\n",
      "  ]\n",
      "}\n",
      "\n",
      "\n",
      "Hi there, I’m John Smith, I’ve been working in data science for about 7 years now. For the last 5 years, I was a senior data scientist at TechCorp. My expertise lies in Python, TensorFlow, and machine learning, and I’ve done a lot of work with time series forecasting too. I also have a PhD in Computer Science. One of my proudest moments was leading a team to build a recommendation system that boosted product discovery by 15%. I’m really excited to apply for this position because I want to dive deeper into predictive analytics and deploying models at scale.\n",
      "{\n",
      "  \"name\": \"John Smith\",\n",
      "  \"experience\": [\n",
      "    \"7 years in data science\",\n",
      "    \"5 years as a senior data scientist at TechCorp\"\n",
      "  ],\n",
      "  \"skills\": [\n",
      "    \"Python\",\n",
      "    \"TensorFlow\",\n",
      "    \"machine learning\",\n",
      "    \"time series forecasting\",\n",
      "    \"predictive analytics\",\n",
      "    \"model deployment\"\n",
      "  ]\n",
      "}\n",
      "\n",
      "\n",
      "Hey, Sarah here! I’ve been working with data and machine learning for around 4 years. I’ve mainly been with smaller companies, helping them build models for fraud detection and data analysis. My go-to tools are Python and scikit-learn, and I also love using Tableau for data visualization. I have a Master's in Data Science, and one of my recent projects involved developing a fraud detection system that hit 92% accuracy. I’m looking for bigger challenges and feel like this role will allow me to work on projects with larger impacts.\n",
      "{\n",
      "  \"name\": \"Sarah\",\n",
      "  \"experience\": [\n",
      "    \"4 years in data and machine learning\",\n",
      "    \"Worked with smaller companies\",\n",
      "    \"Built models for fraud detection\",\n",
      "    \"Data analysis projects\"\n",
      "  ],\n",
      "  \"skills\": [\n",
      "    \"Python\",\n",
      "    \"scikit-learn\",\n",
      "    \"Tableau\",\n",
      "    \"Data Visualization\",\n",
      "    \"Machine Learning\"\n",
      "  ]\n",
      "}\n",
      "\n",
      "\n",
      "Hello, my name is Michael Wang. I’ve spent 6 years in the field of data science, mostly focused on applying business intelligence and analytics. I have a solid foundation in Python and SQL, and I enjoy working on predictive modeling projects. I’ve worked on a project that improved sales forecasting and drove a 10% increase in revenue for the company. With a Master’s in Computer Science, I’m always aiming to align technical data insights with broader business strategies. I’m interested in this position because I want to apply my experience on more diverse and complex projects.\n",
      "{\n",
      "  \"name\": \"Michael Wang\",\n",
      "  \"experience\": [\n",
      "    \"6 years in data science\",\n",
      "    \"Focused on business intelligence and analytics\",\n",
      "    \"Improved sales forecasting project that drove a 10% increase in revenue\"\n",
      "  ],\n",
      "  \"skills\": [\n",
      "    \"Python\",\n",
      "    \"SQL\",\n",
      "    \"Predictive modeling\",\n",
      "    \"Business strategy alignment\"\n",
      "  ]\n",
      "}\n",
      "\n",
      "\n"
     ]
    }
   ],
   "source": [
    "\n",
    "applications = []\n",
    "folder_path = os.path.join(\"data\", \"applications\")\n",
    "for file_name in os.listdir(folder_path):\n",
    "    if file_name.endswith('.txt'):\n",
    "        file_path = os.path.join(folder_path, file_name)\n",
    "        with open(file_path, 'r') as file:\n",
    "            applications.append(file.read())\n",
    "\n",
    "for application in applications:\n",
    "    print(application)\n",
    "    print(chain.invoke(application).json(indent=2))\n",
    "    print(\"\\n\")\n"
   ]
  },
  {
   "cell_type": "markdown",
   "metadata": {},
   "source": [
    "## Task 2: **Create a Structured Output from Unstructured Emails**\n",
    "\n",
    "You are provided with 5 `.txt` files, each containing an email about an office supply order. The emails may include:\n",
    "\n",
    "- Product names, quantities\n",
    "- Delivery dates, addresses\n",
    "- Customer details (names, contacts)\n",
    "\n",
    "Your task is to create a structured object that captures the relevant data (e.g., products, quantities, delivery info) while handling potential noise and inconsistencies. The structure should be designed for future analysis and flexibility to deal with incomplete or messy information.\n",
    "\n",
    "### Example Output:\n",
    "```json\n",
    "{\n",
    "    \"customer\": {\n",
    "        \"name\": \"John Doe\", \n",
    "        \"company\": \"ACME Corp\"\n",
    "    },\n",
    "    \"order_items\": [\n",
    "        {\n",
    "            \"product\": \"Pens\",\n",
    "            \"quantity\": 10\n",
    "        }\n",
    "    ],\n",
    "    \"delivery\": {\n",
    "        \"address\": \"123 Main St\",\n",
    "        \"date\": \"2023-09-12\"\n",
    "    }\n",
    "}\n",
    "```\n",
    "\n",
    "#### Documentation:\n",
    "\n",
    "- [Langchain AI - Structured Output](https://python.langchain.com/v0.2/docs/how_to/structured_output/)\n"
   ]
  },
  {
   "cell_type": "code",
   "execution_count": null,
   "metadata": {},
   "outputs": [],
   "source": [
    "orders = []\n",
    "folder_path = os.path.join(\"data\", \"orders\")\n",
    "for file_name in os.listdir(folder_path):\n",
    "    if file_name.endswith('.txt'):\n",
    "        file_path = os.path.join(folder_path, file_name)\n",
    "        with open(file_path, 'r') as file:\n",
    "            orders.append(file.read())\n",
    "\n",
    "# See how one of the orders look\n",
    "print(orders[0])"
   ]
  },
  {
   "cell_type": "markdown",
   "metadata": {},
   "source": [
    "You job now is to create the Pydantic object that will be used to structure the information in the emails."
   ]
  },
  {
   "cell_type": "code",
   "execution_count": null,
   "metadata": {},
   "outputs": [],
   "source": [
    "#-----------TASK 2: Write your pydantic object --------------\n",
    "class Order(BaseModel):\n",
    "    pass\n",
    "#------------------------------------------------------------"
   ]
  },
  {
   "cell_type": "code",
   "execution_count": null,
   "metadata": {},
   "outputs": [],
   "source": [
    "prompt = PromptTemplate(\n",
    "    template=\"\"\"\n",
    "    {order}\n",
    "    \"\"\"\n",
    ")\n",
    "chain = prompt | llm.with_structured_output(Order)"
   ]
  },
  {
   "cell_type": "code",
   "execution_count": null,
   "metadata": {},
   "outputs": [],
   "source": [
    "orders[0]\n",
    "print(chain.invoke(orders[0]).json(indent=2))"
   ]
  },
  {
   "cell_type": "markdown",
   "metadata": {},
   "source": [
    "# Basic Reflection\n",
    "\n",
    "<div style=\"text-align:center\">\n",
    "    <img src=\"./images/Reflection.png\" alt=\"basic agent reflection\" width='50%'>\n",
    "</div>\n"
   ]
  },
  {
   "cell_type": "code",
   "execution_count": 61,
   "metadata": {},
   "outputs": [
    {
     "data": {
      "image/jpeg": "[encoded data removed]",
      "text/plain": [
       "<IPython.core.display.Image object>"
      ]
     },
     "metadata": {},
     "output_type": "display_data"
    }
   ],
   "source": [
    "from langchain_core.output_parsers import StrOutputParser\n",
    "\n",
    "llm_gpt_3_5 = ChatOpenAI(\n",
    "    model_name=\"gpt-3.5-turbo\",\n",
    ")\n",
    "\n",
    "class GraphState(TypedDict):\n",
    "    essay: str\n",
    "    feedback: Annotated[list, add_messages]\n",
    "\n",
    "def essay_writer(state: GraphState):\n",
    "    \"\"\"Node that generate a 3 paragraph essay\"\"\"\n",
    "    print(\"\\n---ESSAY WRITER---\")\n",
    "    essay = state[\"essay\"] if \"essay\" in state else \"No essay yet\"\n",
    "    prompt = PromptTemplate(\n",
    "        template=\"\"\"\n",
    "        Write a 3 paragraph essay based on the following feedback:\n",
    "\n",
    "        Essay: {essay}\n",
    "\n",
    "        Update the essay based on the feedback:\n",
    "\n",
    "        Feedback: {feedback}\n",
    "        \"\"\"\n",
    "    )\n",
    "    generate = prompt | llm_gpt_3_5 | StrOutputParser()\n",
    "    essay = generate.invoke({\"essay\": essay, \"feedback\": state[\"feedback\"]})\n",
    "    print(\"\\nEssay: \", essay)\n",
    "    return {\"essay\": [essay]}\n",
    "\n",
    "\n",
    "def essay_grader(state: GraphState):\n",
    "    \"\"\"Node that grades an essay\"\"\"\n",
    "    print(\"\\n---ESSAY GRADER---\")\n",
    "    prompt = PromptTemplate(\n",
    "        template=\"\"\"\n",
    "        You are a teacher grading an essay. Provide clear and consise feedback on how to improve the essay:\n",
    "\n",
    "        Essay: {essay}\n",
    "        \"\"\"\n",
    "    )\n",
    "    generate = prompt | llm\n",
    "    feedback = generate.invoke({\"essay\": state[\"essay\"] if \"essay\" in state else \"No essay yet\"})\n",
    "    print(\"\\nFeedback: \", feedback)\n",
    "    return {\"feedback\": [feedback]}\n",
    "\n",
    "\n",
    "def should_continue(state: GraphState):\n",
    "    \"\"\"Node that checks if the user wants to continue\"\"\"\n",
    "    print(\"\\n---SHOULD CONTINUE---\")\n",
    "    if len(state[\"feedback\"]) > 3:\n",
    "        return \"__end__\"\n",
    "    else:\n",
    "        return \"essay_grader\"\n",
    "\n",
    "\n",
    "workflow = StateGraph(GraphState)\n",
    "\n",
    "workflow.add_node(\"essay_writer\", essay_writer)\n",
    "workflow.add_node(\"essay_grader\", essay_grader)\n",
    "\n",
    "workflow.add_edge(START, \"essay_writer\")\n",
    "workflow.add_edge(\"essay_grader\", \"essay_writer\")\n",
    "\n",
    "workflow.add_conditional_edges(\n",
    "    \"essay_writer\",\n",
    "    should_continue\n",
    ")\n",
    "\n",
    "graph = workflow.compile()\n",
    "\n",
    "display(Image(graph.get_graph().draw_mermaid_png()))"
   ]
  },
  {
   "cell_type": "code",
   "execution_count": 62,
   "metadata": {},
   "outputs": [
    {
     "name": "stdout",
     "output_type": "stream",
     "text": [
      "\n",
      "---ESSAY WRITER---\n",
      "\n",
      "Essay:  Norges Teknisk-Naturvitenskapelige Universitet, also known as the Norwegian University of Science and Technology (NTNU) in Trondheim, is a prestigious institution known for its excellence in technical and natural sciences. Located in the heart of Norway, NTNU boasts a rich history of academic achievement and innovation in various fields of study. The university is renowned for its cutting-edge research facilities and world-class faculty members who are experts in their respective fields.\n",
      "\n",
      "NTNU offers a wide range of undergraduate and graduate programs in engineering, science, technology, and natural sciences. Students at NTNU have access to state-of-the-art laboratories, research centers, and resources that enable them to engage in hands-on learning experiences and conduct groundbreaking research. The university's commitment to academic excellence and innovation has earned it a strong reputation both nationally and internationally, attracting students and researchers from all over the world.\n",
      "\n",
      "In addition to its academic offerings, NTNU is also known for its vibrant campus life and strong sense of community. Students at NTNU have the opportunity to participate in a variety of extracurricular activities, clubs, and organizations that cater to their interests and passions. The university's picturesque campus in Trondheim provides a beautiful backdrop for students to learn, grow, and thrive in a supportive and stimulating academic environment. Overall, NTNU is a world-class institution that continues to push the boundaries of knowledge and innovation in the fields of science and technology.\n",
      "\n",
      "---SHOULD CONTINUE---\n",
      "\n",
      "---ESSAY GRADER---\n",
      "\n",
      "Feedback:  content='**Feedback on Essay:**\\n\\n1. **Introduction and Thesis Statement:**\\n   - The essay lacks a clear thesis statement that outlines the main points you will discuss. Consider adding a sentence in the introduction that summarizes the key aspects of NTNU you will cover, such as its academic programs, research facilities, and campus life.\\n\\n2. **Organization:**\\n   - The essay is generally well-organized, but it may benefit from clearer transitions between paragraphs. Use transitional phrases to guide the reader from one idea to the next, enhancing the flow of your writing.\\n\\n3. **Detail and Examples:**\\n   - While you mention that NTNU has \"cutting-edge research facilities,\" providing specific examples of these facilities or notable research projects would strengthen your argument and give the reader a clearer picture of the university\\'s strengths.\\n\\n4. **Clarity and Conciseness:**\\n   - Some sentences are overly long and could be made more concise. For instance, the sentence about the university’s commitment to academic excellence could be shortened for clarity. Aim for straightforward language to enhance readability.\\n\\n5. **Conclusion:**\\n   - The essay lacks a concluding paragraph that summarizes the key points and reinforces the significance of NTNU. A strong conclusion should tie together your main ideas and reflect on the overall impact of the university on students and research.\\n\\n6. **Grammar and Style:**\\n   - Review the essay for minor grammatical errors and consider varying your sentence structure. This can make your writing more engaging. For example, instead of starting several sentences with \"The university,\" try to vary your sentence openings.\\n\\n7. **Engagement:**\\n   - Consider incorporating a personal touch or anecdote, such as a student’s experience, to make the essay more relatable and engaging for the reader.\\n\\nBy addressing these areas, you can enhance the clarity, depth, and overall effectiveness of your essay.' additional_kwargs={'refusal': None} response_metadata={'token_usage': {'completion_tokens': 374, 'prompt_tokens': 319, 'total_tokens': 693}, 'model_name': 'gpt-4o-mini-2024-07-18', 'system_fingerprint': 'fp_f33667828e', 'finish_reason': 'stop', 'logprobs': None} id='run-0938602a-7cf1-40d6-828b-fab939c500ac-0' usage_metadata={'input_tokens': 319, 'output_tokens': 374, 'total_tokens': 693}\n",
      "\n",
      "---ESSAY WRITER---\n",
      "\n",
      "Essay:  Norges Teknisk-Naturvitenskapelige Universitet, also known as the Norwegian University of Science and Technology (NTNU) in Trondheim, is a renowned institution that excels in technical and natural sciences. Situated in the heart of Norway, NTNU has a long history of academic excellence and innovation across various fields of study. The university is distinguished for its state-of-the-art research facilities and world-class faculty members who are experts in their respective disciplines. However, to enhance the clarity and depth of the essay, it is essential to include a clear thesis statement in the introduction that summarizes the key aspects of NTNU, such as its academic programs, research facilities, and campus life.\n",
      "\n",
      "Moreover, NTNU offers a diverse range of undergraduate and graduate programs in engineering, science, technology, and natural sciences, providing students with access to cutting-edge laboratories, research centers, and resources for hands-on learning experiences and groundbreaking research. Despite mentioning the university's commitment to academic excellence, the essay could benefit from specific examples of notable research projects or facilities at NTNU to strengthen the argument and offer a clearer insight into the university's strengths. By incorporating concrete examples, the essay can effectively highlight the institution's contributions to the fields of science and technology.\n",
      "\n",
      "In addition to its academic offerings, NTNU is renowned for its vibrant campus life and strong sense of community, offering students a plethora of extracurricular activities, clubs, and organizations to engage in. The picturesque campus in Trondheim provides a beautiful backdrop for students to thrive in a supportive and stimulating academic environment. To improve the overall effectiveness of the essay, it is important to include a concluding paragraph that summarizes the key points discussed and emphasizes the significance of NTNU in shaping students' experiences and advancing research. By addressing the feedback provided and enhancing the structure, detail, and engagement of the essay, the portrayal of NTNU as a world-class institution at the forefront of knowledge and innovation can be effectively conveyed.\n",
      "\n",
      "---SHOULD CONTINUE---\n",
      "\n",
      "---ESSAY GRADER---\n",
      "\n",
      "Feedback:  content=\"**Feedback on Essay:**\\n\\n1. **Thesis Statement**: The introduction should clearly state a thesis that encapsulates the main arguments of the essay. Consider rephrasing your introduction to include a specific thesis that outlines the key aspects you will discuss, such as academic programs, research contributions, and campus life.\\n\\n2. **Specific Examples**: While you mention NTNU's strengths, the essay would benefit from specific examples of notable research projects, facilities, or achievements. This will provide concrete evidence to support your claims and enhance the reader's understanding of NTNU’s impact.\\n\\n3. **Detail and Depth**: Expand on the descriptions of NTNU’s programs and facilities. Instead of general statements, provide more detailed information about what makes these programs and resources unique or exceptional.\\n\\n4. **Structure**: Ensure that each paragraph has a clear main idea and transitions smoothly to the next. Consider using topic sentences to guide the reader and maintain a logical flow throughout the essay.\\n\\n5. **Conclusion**: Include a strong conclusion that not only summarizes the key points but also reflects on the significance of NTNU in the broader context of education and research. This will help reinforce the main arguments and leave the reader with a lasting impression.\\n\\n6. **Engagement and Style**: Vary your sentence structure and word choice to maintain reader interest. Consider using more engaging language to convey your enthusiasm about NTNU and its contributions to education and research.\\n\\n7. **Proofreading**: Be sure to proofread for grammatical errors or awkward phrasing to improve clarity and professionalism.\\n\\nBy addressing these areas, you can enhance the clarity, depth, and overall effectiveness of your essay on NTNU.\" additional_kwargs={'refusal': None} response_metadata={'token_usage': {'completion_tokens': 336, 'prompt_tokens': 422, 'total_tokens': 758}, 'model_name': 'gpt-4o-mini-2024-07-18', 'system_fingerprint': 'fp_f905cf32a9', 'finish_reason': 'stop', 'logprobs': None} id='run-0857b1db-852b-4ecc-92bb-99b707678115-0' usage_metadata={'input_tokens': 422, 'output_tokens': 336, 'total_tokens': 758}\n",
      "\n",
      "---ESSAY WRITER---\n",
      "\n",
      "Essay:  The Norwegian University of Science and Technology (NTNU) in Trondheim, also known as Norges Teknisk-Naturvitenskapelige Universitet, is a prestigious institution renowned for its excellence in technical and natural sciences. Situated in the heart of Norway, NTNU boasts a rich history of academic achievements and innovation across various fields of study. The university stands out for its cutting-edge research facilities and a distinguished faculty comprising experts in their respective disciplines. To enhance the clarity and depth of the essay, a clear thesis statement summarizing NTNU's academic programs, research facilities, and campus life should be included in the introduction.\n",
      "\n",
      "NTNU offers a diverse range of undergraduate and graduate programs in engineering, science, technology, and natural sciences, providing students with access to state-of-the-art laboratories, research centers, and resources for hands-on learning experiences and groundbreaking research. While the essay mentions the university's commitment to academic excellence, specific examples of notable research projects or facilities at NTNU would strengthen the argument and offer a clearer insight into the institution's strengths. By incorporating concrete examples, the essay can effectively showcase NTNU's contributions to the fields of science and technology.\n",
      "\n",
      "In addition to its academic offerings, NTNU is known for its vibrant campus life and strong sense of community, offering students a wide array of extracurricular activities, clubs, and organizations to engage in. The picturesque campus in Trondheim provides a beautiful backdrop for students to thrive in a supportive and stimulating academic environment. To improve the overall effectiveness of the essay, a concluding paragraph summarizing the key points discussed and emphasizing the significance of NTNU in shaping students' experiences and advancing research should be included. By addressing the feedback provided and enhancing the structure, detail, and engagement of the essay, NTNU can be effectively portrayed as a world-class institution at the forefront of knowledge and innovation.\n",
      "\n",
      "---SHOULD CONTINUE---\n",
      "\n",
      "---ESSAY GRADER---\n",
      "\n",
      "Feedback:  content=\"**Feedback on Essay:**\\n\\n1. **Thesis Statement**: The introduction should include a clear thesis statement that encapsulates the main points of your essay. This will provide a roadmap for readers, helping them understand what to expect in the following paragraphs.\\n\\n2. **Specific Examples**: While you mention NTNU’s commitment to academic excellence, you should include specific examples of notable research projects or facilities. This will enhance your argument and provide concrete evidence of the university's strengths.\\n\\n3. **Structure and Flow**: Make sure each paragraph has a clear focus. For instance, consider dedicating one paragraph to academic programs, another to research facilities, and a third to campus life. This will improve the organization and readability of your essay.\\n\\n4. **Conclusion**: A concluding paragraph is necessary to summarize your main points and reinforce the significance of NTNU. This should tie back to your thesis and reflect on how NTNU shapes the experiences of its students and contributes to research.\\n\\n5. **Engagement**: To make your essay more engaging, consider incorporating quotes from students or faculty, or statistics that highlight NTNU’s achievements. This will add depth and interest to your writing.\\n\\n6. **Language and Tone**: While the tone is generally appropriate for an academic essay, aim for more varied sentence structures to enhance the flow and keep the reader engaged. Avoid repetitive phrases and strive for conciseness.\\n\\n7. **Proofreading**: Finally, be sure to proofread for grammatical errors and clarity. Polishing your writing will enhance your credibility and the overall quality of the essay.\\n\\nBy addressing these points, your essay will present a more compelling and structured argument about NTNU's role as a leading institution in science and technology.\" additional_kwargs={'refusal': None} response_metadata={'token_usage': {'completion_tokens': 347, 'prompt_tokens': 401, 'total_tokens': 748}, 'model_name': 'gpt-4o-mini-2024-07-18', 'system_fingerprint': 'fp_f33667828e', 'finish_reason': 'stop', 'logprobs': None} id='run-50801a90-d2fd-43d9-ad9a-fbdd11a5f474-0' usage_metadata={'input_tokens': 401, 'output_tokens': 347, 'total_tokens': 748}\n",
      "\n",
      "---ESSAY WRITER---\n",
      "\n",
      "Essay:  The Norwegian University of Science and Technology (NTNU) in Trondheim, also known as Norges Teknisk-Naturvitenskapelige Universitet, is a prestigious institution renowned for its excellence in technical and natural sciences. Situated in the heart of Norway, NTNU boasts a rich history of academic achievements and innovation across various fields of study. The university stands out for its cutting-edge research facilities and a distinguished faculty comprising experts in their respective disciplines. To enhance the clarity and depth of the essay, a clear thesis statement summarizing NTNU's academic programs, research facilities, and campus life should be included in the introduction.\n",
      "\n",
      "NTNU offers a diverse range of undergraduate and graduate programs in engineering, science, technology, and natural sciences, providing students with access to state-of-the-art laboratories, research centers, and resources for hands-on learning experiences and groundbreaking research. While the essay mentions the university's commitment to academic excellence, specific examples of notable research projects or facilities at NTNU would strengthen the argument and offer a clearer insight into the institution's strengths. By incorporating concrete examples, the essay can effectively showcase NTNU's contributions to the fields of science and technology.\n",
      "\n",
      "In addition to its academic offerings, NTNU is known for its vibrant campus life and strong sense of community, offering students a wide array of extracurricular activities, clubs, and organizations to engage in. The picturesque campus in Trondheim provides a beautiful backdrop for students to thrive in a supportive and stimulating academic environment. To improve the overall effectiveness of the essay, a concluding paragraph summarizing the key points discussed and emphasizing the significance of NTNU in shaping students' experiences and advancing research should be included. By addressing the feedback provided and enhancing the structure, detail, and engagement of the essay, NTNU can be effectively portrayed as a world-class institution at the forefront of knowledge and innovation.\n",
      "\n",
      "---SHOULD CONTINUE---\n",
      "Essay:  [\"The Norwegian University of Science and Technology (NTNU) in Trondheim, also known as Norges Teknisk-Naturvitenskapelige Universitet, is a prestigious institution renowned for its excellence in technical and natural sciences. Situated in the heart of Norway, NTNU boasts a rich history of academic achievements and innovation across various fields of study. The university stands out for its cutting-edge research facilities and a distinguished faculty comprising experts in their respective disciplines. To enhance the clarity and depth of the essay, a clear thesis statement summarizing NTNU's academic programs, research facilities, and campus life should be included in the introduction.\\n\\nNTNU offers a diverse range of undergraduate and graduate programs in engineering, science, technology, and natural sciences, providing students with access to state-of-the-art laboratories, research centers, and resources for hands-on learning experiences and groundbreaking research. While the essay mentions the university's commitment to academic excellence, specific examples of notable research projects or facilities at NTNU would strengthen the argument and offer a clearer insight into the institution's strengths. By incorporating concrete examples, the essay can effectively showcase NTNU's contributions to the fields of science and technology.\\n\\nIn addition to its academic offerings, NTNU is known for its vibrant campus life and strong sense of community, offering students a wide array of extracurricular activities, clubs, and organizations to engage in. The picturesque campus in Trondheim provides a beautiful backdrop for students to thrive in a supportive and stimulating academic environment. To improve the overall effectiveness of the essay, a concluding paragraph summarizing the key points discussed and emphasizing the significance of NTNU in shaping students' experiences and advancing research should be included. By addressing the feedback provided and enhancing the structure, detail, and engagement of the essay, NTNU can be effectively portrayed as a world-class institution at the forefront of knowledge and innovation.\"]\n"
     ]
    }
   ],
   "source": [
    "request = \"Skriv en saktekst om Norges Teknisk-Naturvitenskapelige Universitet i Trondheim.\"\n",
    "\n",
    "essay = graph.invoke({\"feedback\": [request]})\n",
    "print(\"Essay: \", essay[\"essay\"])"
   ]
  },
  {
   "cell_type": "markdown",
   "metadata": {},
   "source": [
    "## Task 3: **Create a code-generating agent with self reflection**\n",
    "\n",
    "### Motivation\n",
    "Code generation and analysis are two of most important applications of LLMs, as shown by the ubiquity of products like GitHub co-pilot and popularity of projects like GPT-engineer. The recent AlphaCodium work showed that code generation can be improved by using a flow paradigm rather than a naive prompt:answer paradigm: answers can be iteratively constructed by (1) testing answers and (2) reflecting on the results of these tests in order to improve the solution.\n",
    "\n",
    "### Task\n",
    "Create an agent that generates code based on what the user wants. Take a look at this flow diagram:\n",
    "\n",
    "<div style=\"text-align:left\">\n",
    "    <img src=\"./images/Code-Generation.png\" alt=\"basic agent reflection\" width='50%'>\n",
    "</div>\n",
    "\n",
    "You are free to choose the complexity of the task with these suggestions:\n",
    "1. Code execution: Create a tool that executes the code generated by the agent.\n",
    "2. Documentation: Create a tool that retrieves the documentation of a given library.\n",
    "3. Add support for multiple programming languages.\n"
   ]
  },
  {
   "cell_type": "code",
   "execution_count": 63,
   "metadata": {},
   "outputs": [],
   "source": [
    "#-----------TASK 3.1: Write the GraphState and potentially any pydantic objects--------------\n",
    "class GeneratedCode(BaseModel):\n",
    "    pass\n",
    "\n",
    "class GraphState(TypedDict):\n",
    "    pass"
   ]
  },
  {
   "cell_type": "code",
   "execution_count": null,
   "metadata": {},
   "outputs": [],
   "source": [
    "#-----------TASK 3.2: Define any tools that you may use--------------\n",
    "@tool\n",
    "def my_tool():\n",
    "    pass"
   ]
  },
  {
   "cell_type": "code",
   "execution_count": null,
   "metadata": {},
   "outputs": [],
   "source": [
    "#-----------TASK 3.3: Write the nodes--------------"
   ]
  },
  {
   "cell_type": "code",
   "execution_count": null,
   "metadata": {},
   "outputs": [],
   "source": [
    "workflow = StateGraph(GraphState)\n",
    "\n",
    "#-----------TASK 3.4: Define the workflow--------------\n",
    "\n",
    "\n",
    "#-----------------------------------------------------\n",
    "\n",
    "graph = workflow.compile()\n",
    "\n",
    "display(Image(graph.get_graph().draw_mermaid_png()))"
   ]
  },
  {
   "cell_type": "markdown",
   "metadata": {},
   "source": [
    "#### Now its time to see if the agent will work🤩"
   ]
  },
  {
   "cell_type": "code",
   "execution_count": null,
   "metadata": {},
   "outputs": [],
   "source": [
    "request = input(\"What do you want to generate? \")\n",
    "generated_code = graph.invoke({\"request\": request})\n",
    "print(\"Generated Code: \", generated_code)"
   ]
  },
  {
   "cell_type": "markdown",
   "metadata": {},
   "source": [
    "## This is the end of the workshop. We hope you enjoyed it.🎉"
   ]
  }
 ],
 "metadata": {
  "kernelspec": {
   "display_name": "agent-workshop",
   "language": "python",
   "name": "python3"
  },
  "language_info": {
   "codemirror_mode": {
    "name": "ipython",
    "version": 3
   },
   "file_extension": ".py",
   "mimetype": "text/x-python",
   "name": "python",
   "nbconvert_exporter": "python",
   "pygments_lexer": "ipython3",
   "version": "3.11.8"
  }
 },
 "nbformat": 4,
 "nbformat_minor": 2
}
